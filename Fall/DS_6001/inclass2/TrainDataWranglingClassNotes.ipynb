{
 "cells": [
  {
   "cell_type": "markdown",
   "metadata": {},
   "source": [
    "Data Wrangling Notebook\n",
    "Rail Accident Data"
   ]
  },
  {
   "cell_type": "markdown",
   "metadata": {},
   "source": [
    "Python to format and clean the train accident data files for analysis"
   ]
  },
  {
   "cell_type": "code",
   "execution_count": 1,
   "metadata": {},
   "outputs": [],
   "source": [
    "# Data management\n",
    "import pandas as pd\n",
    "from pandas import Series, DataFrame\n",
    "import numpy as np\n",
    "import os\n",
    "from collections import Counter\n",
    "\n",
    "# Plotting\n",
    "import seaborn as sns\n",
    "import matplotlib as mpl\n",
    "import matplotlib.pyplot as plt\n",
    "\n",
    "%matplotlib inline"
   ]
  },
  {
   "cell_type": "code",
   "execution_count": 2,
   "metadata": {},
   "outputs": [],
   "source": [
    "# Input the data for 2001\n",
    "# Look at the number of rows and columns\n",
    "\n",
    "data_files = \"/Users/RustyRosti/MSDS/Fall/DS_6001/inclass2/data\"\n",
    "os.chdir(data_files)\n",
    "\n",
    "data_2001 = pd.read_csv(\"RailAccidents01.txt\")"
   ]
  },
  {
   "cell_type": "code",
   "execution_count": 3,
   "metadata": {},
   "outputs": [
    {
     "data": {
      "text/plain": [
       "Index(['AMTRAK', 'IYR', 'IMO', 'RAILROAD', 'INCDTNO', 'IYR2', 'IMO2', 'RR2',\n",
       "       'INCDTNO2', 'IYR3', \n",
       "       ...\n",
       "       'NARR15', 'RCL', 'Latitude', 'Longitud', 'SIGNAL', 'MOPERA', 'ADJUNCT1',\n",
       "       'ADJUNCT2', 'ADJUNCT3', 'SUBDIV'],\n",
       "      dtype='object', length=146)"
      ]
     },
     "execution_count": 3,
     "output_type": "execute_result",
     "metadata": {}
    }
   ],
   "source": [
    "# Get variable (column) names\n",
    "\n",
    "data_2001_dataframe = DataFrame(data_2001)\n",
    "data_2001_dataframe.columns"
   ]
  },
  {
   "cell_type": "code",
   "execution_count": 4,
   "metadata": {},
   "outputs": [
    {
     "data": {
      "text/html": [
       "<div>\n",
       "<table border=\"1\" class=\"dataframe\">\n",
       "  <thead>\n",
       "    <tr style=\"text-align: right;\">\n",
       "      <th></th>\n",
       "      <th>ACCDMG</th>\n",
       "      <th>TRNSPD</th>\n",
       "      <th>TONS</th>\n",
       "      <th>CARSDMG</th>\n",
       "      <th>TOTINJ</th>\n",
       "      <th>TOTKLD</th>\n",
       "    </tr>\n",
       "  </thead>\n",
       "  <tbody>\n",
       "    <tr>\n",
       "      <th>count</th>\n",
       "      <td>3983.000000</td>\n",
       "      <td>3983.000000</td>\n",
       "      <td>3983.000000</td>\n",
       "      <td>3983.000000</td>\n",
       "      <td>3983.000000</td>\n",
       "      <td>3983.000000</td>\n",
       "    </tr>\n",
       "    <tr>\n",
       "      <th>mean</th>\n",
       "      <td>108422.482802</td>\n",
       "      <td>12.118755</td>\n",
       "      <td>3158.849862</td>\n",
       "      <td>0.236003</td>\n",
       "      <td>0.112227</td>\n",
       "      <td>0.014060</td>\n",
       "    </tr>\n",
       "    <tr>\n",
       "      <th>std</th>\n",
       "      <td>485949.866631</td>\n",
       "      <td>16.745899</td>\n",
       "      <td>4555.113012</td>\n",
       "      <td>1.012746</td>\n",
       "      <td>1.273383</td>\n",
       "      <td>0.168615</td>\n",
       "    </tr>\n",
       "    <tr>\n",
       "      <th>min</th>\n",
       "      <td>0.000000</td>\n",
       "      <td>0.000000</td>\n",
       "      <td>0.000000</td>\n",
       "      <td>0.000000</td>\n",
       "      <td>0.000000</td>\n",
       "      <td>0.000000</td>\n",
       "    </tr>\n",
       "    <tr>\n",
       "      <th>25%</th>\n",
       "      <td>12000.000000</td>\n",
       "      <td>3.000000</td>\n",
       "      <td>0.000000</td>\n",
       "      <td>0.000000</td>\n",
       "      <td>0.000000</td>\n",
       "      <td>0.000000</td>\n",
       "    </tr>\n",
       "    <tr>\n",
       "      <th>50%</th>\n",
       "      <td>22148.000000</td>\n",
       "      <td>5.000000</td>\n",
       "      <td>880.000000</td>\n",
       "      <td>0.000000</td>\n",
       "      <td>0.000000</td>\n",
       "      <td>0.000000</td>\n",
       "    </tr>\n",
       "    <tr>\n",
       "      <th>75%</th>\n",
       "      <td>54592.500000</td>\n",
       "      <td>10.000000</td>\n",
       "      <td>5015.000000</td>\n",
       "      <td>0.000000</td>\n",
       "      <td>0.000000</td>\n",
       "      <td>0.000000</td>\n",
       "    </tr>\n",
       "    <tr>\n",
       "      <th>max</th>\n",
       "      <td>16930000.000000</td>\n",
       "      <td>135.000000</td>\n",
       "      <td>59400.000000</td>\n",
       "      <td>24.000000</td>\n",
       "      <td>49.000000</td>\n",
       "      <td>7.000000</td>\n",
       "    </tr>\n",
       "  </tbody>\n",
       "</table>\n",
       "</div>"
      ]
     },
     "output_type": "execute_result",
     "metadata": {}
    }
   ],
   "source": [
    "# summarize  the variables \"ACCDMG\", \"TRNSPD\", \"TONS\", \"CARSDMG\", \"TOTINJ\", \"TOTKLD\"\n",
    "data_2001_dataframe[[\"ACCDMG\", \"TRNSPD\", \"TONS\", \"CARSDMG\", \"TOTINJ\", \"TOTKLD\"]].describe()"
   ]
  },
  {
   "cell_type": "code",
   "execution_count": 5,
   "metadata": {},
   "outputs": [
    {
     "data": {
      "text/plain": [
       "(array([  3.95000000e+03,   2.10000000e+01,   4.00000000e+00,\n",
       "          3.00000000e+00,   4.00000000e+00,   0.00000000e+00,\n",
       "          0.00000000e+00,   0.00000000e+00,   0.00000000e+00,\n",
       "          1.00000000e+00]),\n",
       " array([        0.,   1693000.,   3386000.,   5079000.,   6772000.,\n",
       "          8465000.,  10158000.,  11851000.,  13544000.,  15237000.,\n",
       "         16930000.]),\n",
       " <a list of 10 Patch objects>)"
      ]
     },
     "execution_count": 5,
     "output_type": "execute_result",
     "metadata": {}
    },
    {
     "data": {
      "image/png": "[encoded data removed]"
     },
     "output_type": "display_data",
     "metadata": {}
    }
   ],
   "source": [
    "# Plot a hisogram of ACCDMG\n",
    "plt.hist(data_2001_dataframe[\"ACCDMG\"])"
   ]
  },
  {
   "cell_type": "code",
   "execution_count": 6,
   "metadata": {},
   "outputs": [
    {
     "data": {
      "text/plain": [
       "{'boxes': [<matplotlib.lines.Line2D at 0x10a920d68>],\n",
       " 'caps': [<matplotlib.lines.Line2D at 0x10a77a160>,\n",
       "  <matplotlib.lines.Line2D at 0x10a92c860>],\n",
       " 'fliers': [<matplotlib.lines.Line2D at 0x10a932860>],\n",
       " 'means': [],\n",
       " 'medians': [<matplotlib.lines.Line2D at 0x10a932080>],\n",
       " 'whiskers': [<matplotlib.lines.Line2D at 0x10a928080>,\n",
       "  <matplotlib.lines.Line2D at 0x10a9288d0>]}"
      ]
     },
     "execution_count": 6,
     "output_type": "execute_result",
     "metadata": {}
    },
    {
     "data": {
      "image/png": "[encoded data removed]"
     },
     "output_type": "display_data",
     "metadata": {}
    }
   ],
   "source": [
    "# box plot of ACCDMG\n",
    "plt.boxplot(data_2001_dataframe[\"ACCDMG\"])"
   ]
  },
  {
   "cell_type": "code",
   "execution_count": 7,
   "metadata": {},
   "outputs": [],
   "source": [
    "# box plot of ACCDMG, TRKDMG, EQPDMG, CARSDMG"
   ]
  },
  {
   "cell_type": "code",
   "execution_count": 8,
   "metadata": {},
   "outputs": [],
   "source": [
    "# box plot of TEMP"
   ]
  },
  {
   "cell_type": "code",
   "execution_count": 9,
   "metadata": {},
   "outputs": [
    {
     "data": {
      "text/plain": [
       "(3191, 146)"
      ]
     },
     "execution_count": 9,
     "output_type": "execute_result",
     "metadata": {}
    }
   ],
   "source": [
    "#Removing duplicates\n",
    "d01clean = data_2001_dataframe.drop_duplicates([\"YEAR\",\"MONTH\",\"DAY\",\"TIMEHR\",\"TIMEMIN\"])\n",
    "d01clean.shape"
   ]
  },
  {
   "cell_type": "code",
   "execution_count": 10,
   "metadata": {},
   "outputs": [
    {
     "name": "stdout",
     "output_type": "stream",
     "text": [
      "16930000.0 1222\n",
      "1222\n",
      "(3191, 147)\n",
      "(3190, 147)\n",
      "16930000.0\n",
      "8063350.0\n"
     ]
    }
   ],
   "source": [
    "# Find the most expensive accident\n",
    "# and get date and narrative for it \n",
    "\n",
    "maxx = max(d01clean.ACCDMG)\n",
    "indxx = list(d01clean.ACCDMG).index(maxx)\n",
    "d01clean = d01clean.reset_index()\n",
    "(damage_cost,nine_11_index) = max((v,i) for i,v in enumerate(d01clean.ACCDMG))\n",
    "print(damage_cost,nine_11_index)\n",
    "print(nine_11_index)\n",
    "\n",
    "d01_no_911 = d01clean.drop([nine_11_index])\n",
    "\n",
    "print(d01clean.shape)\n",
    "print(d01_no_911.shape)\n",
    "\n",
    "print(max(d01clean.ACCDMG))\n",
    "print(max(d01_no_911.ACCDMG))\n",
    "d01_no_911 = d01_no_911.reset_index()"
   ]
  },
  {
   "cell_type": "code",
   "execution_count": 11,
   "metadata": {},
   "outputs": [],
   "source": [
    "# Drop the 9/11/2001 accident"
   ]
  },
  {
   "cell_type": "code",
   "execution_count": 12,
   "metadata": {},
   "outputs": [],
   "source": [
    "# Check removal of the 9/11/01 report"
   ]
  },
  {
   "cell_type": "code",
   "execution_count": 13,
   "metadata": {},
   "outputs": [
    {
     "data": {
      "text/plain": [
       "level_0     False\n",
       "index       False\n",
       "AMTRAK       True\n",
       "IYR         False\n",
       "IMO         False\n",
       "RAILROAD    False\n",
       "INCDTNO     False\n",
       "IYR2         True\n",
       "IMO2         True\n",
       "RR2          True\n",
       "INCDTNO2     True\n",
       "IYR3        False\n",
       "IMO3        False\n",
       "RR3         False\n",
       "INCDTNO3    False\n",
       "DUMMY1       True\n",
       "GXID         True\n",
       "YEAR        False\n",
       "MONTH       False\n",
       "DAY         False\n",
       "TIMEHR      False\n",
       "TIMEMIN     False\n",
       "AMPM         True\n",
       "TYPE        False\n",
       "CARS        False\n",
       "CARSDMG     False\n",
       "CARSHZD     False\n",
       "EVACUATE    False\n",
       "DIVISION    False\n",
       "STATION      True\n",
       "            ...  \n",
       "ALCOHOL      True\n",
       "DRUG         True\n",
       "DUMMY7       True\n",
       "PASSTRN      True\n",
       "SSB1         True\n",
       "SSB2         True\n",
       "NARR1       False\n",
       "NARR2        True\n",
       "NARR3        True\n",
       "NARR4        True\n",
       "NARR5        True\n",
       "NARR6        True\n",
       "NARR7        True\n",
       "NARR8        True\n",
       "NARR9        True\n",
       "NARR10       True\n",
       "NARR11       True\n",
       "NARR12       True\n",
       "NARR13       True\n",
       "NARR14       True\n",
       "NARR15       True\n",
       "RCL          True\n",
       "Latitude     True\n",
       "Longitud     True\n",
       "SIGNAL       True\n",
       "MOPERA       True\n",
       "ADJUNCT1     True\n",
       "ADJUNCT2     True\n",
       "ADJUNCT3     True\n",
       "SUBDIV       True\n",
       "dtype: bool"
      ]
     },
     "execution_count": 13,
     "output_type": "execute_result",
     "metadata": {}
    }
   ],
   "source": [
    "# Check for missing data\n",
    "pd.isnull(d01_no_911).any()"
   ]
  },
  {
   "cell_type": "code",
   "execution_count": 14,
   "metadata": {},
   "outputs": [
    {
     "name": "stdout",
     "output_type": "stream",
     "text": [
      "['NARR2', 'NARR3', 'NARR4', 'NARR5', 'NARR6', 'NARR7', 'NARR8', 'NARR9', 'NARR10', 'NARR11', 'NARR12', 'NARR13', 'NARR14', 'NARR15']\n",
      "(3190, 14)\n"
     ]
    }
   ],
   "source": [
    "# Remove variables with missing data\n",
    "# But keep TYPEQ and ....\n",
    "typeq = d01_no_911.TYPEQ\n",
    "\n",
    "numbers = []\n",
    "for i in range(2,16):\n",
    "    numbers.append(\"NARR\" + str(i))\n",
    "print(numbers)\n",
    "\n",
    "narrs = d01_no_911[numbers]\n",
    "print(narrs.shape)"
   ]
  },
  {
   "cell_type": "code",
   "execution_count": 15,
   "metadata": {},
   "outputs": [
    {
     "data": {
      "text/plain": [
       "0        8\n",
       "1        8\n",
       "2        2\n",
       "3        2\n",
       "4        2\n",
       "5      NaN\n",
       "6        7\n",
       "7        1\n",
       "8        7\n",
       "9        1\n",
       "10       7\n",
       "11       7\n",
       "12       2\n",
       "13       2\n",
       "14       2\n",
       "15       2\n",
       "16       9\n",
       "17       7\n",
       "18       5\n",
       "19       1\n",
       "20       1\n",
       "21       1\n",
       "22       1\n",
       "23       7\n",
       "24       6\n",
       "25       1\n",
       "26       1\n",
       "27       1\n",
       "28       7\n",
       "29       1\n",
       "        ..\n",
       "3160     7\n",
       "3161     1\n",
       "3162     1\n",
       "3163     1\n",
       "3164     1\n",
       "3165     7\n",
       "3166     1\n",
       "3167     1\n",
       "3168     7\n",
       "3169     1\n",
       "3170     1\n",
       "3171     1\n",
       "3172     1\n",
       "3173     7\n",
       "3174     5\n",
       "3175     1\n",
       "3176     7\n",
       "3177     1\n",
       "3178     1\n",
       "3179     1\n",
       "3180     7\n",
       "3181   NaN\n",
       "3182     1\n",
       "3183     1\n",
       "3184     1\n",
       "3185     1\n",
       "3186     7\n",
       "3187     7\n",
       "3188     1\n",
       "3189     1\n",
       "Name: TYPEQ, dtype: float64"
      ]
     },
     "execution_count": 15,
     "output_type": "execute_result",
     "metadata": {}
    }
   ],
   "source": [
    "# Look at the TYPEQ levels\n",
    "typeq"
   ]
  },
  {
   "cell_type": "code",
   "execution_count": 19,
   "metadata": {},
   "outputs": [
    {
     "data": {
      "text/plain": [
       "Counter({nan: 167,\n",
       "         'Maint': 40,\n",
       "         'Single': 49,\n",
       "         'Light': 113,\n",
       "         'CutofCars': 91,\n",
       "         'Passenger': 158,\n",
       "         'Freight': 1558,\n",
       "         'Yard': 966,\n",
       "         'Work': 13,\n",
       "         'Commuter': 35})"
      ]
     },
     "execution_count": 19,
     "output_type": "execute_result",
     "metadata": {}
    }
   ],
   "source": [
    "# Clean up TYPEQ \n",
    "# Use names for levels\n",
    "\n",
    "d01_n9_clean = d01_no_911.dropna(axis=1)\n",
    "#d01_n9_clean = d01_n9_clean.reset_index()\n",
    "d01_n9_clean.describe()\n",
    "d01_n9_clean.TYPEQ = typeq\n",
    "\n",
    "\n",
    "map_typeq = {1:\"Freight\",2:\"Passenger\",3:\"Commuter\",4:\"Work\",\\\n",
    "             5:\"Single\",6:\"CutofCars\",7:\"Yard\",8:\"Light\",9:\"Maint\"}\n",
    "d01_n9_clean.TYPEQ=d01_n9_clean.TYPEQ.map(map_typeq)\n",
    "Counter(d01_n9_clean.TYPEQ)"
   ]
  },
  {
   "cell_type": "code",
   "execution_count": 17,
   "metadata": {},
   "outputs": [
    {
     "name": "stdout",
     "output_type": "stream",
     "text": [
      "0    T108\n",
      "1    E79L\n",
      "2    E79L\n",
      "3    H303\n",
      "4    M404\n",
      "5    E79L\n",
      "6    H018\n",
      "7    H018\n",
      "8    M599\n",
      "9    T399\n",
      "Name: CAUSE, dtype: object\n"
     ]
    },
    {
     "name": "stderr",
     "output_type": "stream",
     "text": [
      "/Users/RustyRosti/anaconda/lib/python3.4/site-packages/pandas/core/generic.py:2177: SettingWithCopyWarning: \n",
      "A value is trying to be set on a copy of a slice from a DataFrame.\n",
      "Try using .loc[row_indexer,col_indexer] = value instead\n",
      "\n",
      "See the the caveats in the documentation: http://pandas.pydata.org/pandas-docs/stable/indexing.html#indexing-view-versus-copy\n",
      "  self[name] = value\n"
     ]
    }
   ],
   "source": [
    "# Clean up the values in TYPE \n",
    "# use names for levels\n",
    "causes = d01_n9_clean.CAUSE\n",
    "mycause = Series([])\n",
    "\n",
    "for i, c in enumerate(causes):\n",
    "    if c.startswith(\"T\"):\n",
    "        mycause = mycause.append(Series([\"T\"]))\n",
    "    if c.startswith(\"H\"):\n",
    "        mycause = mycause.append(Series([\"H\"]))\n",
    "    if c.startswith(\"M\"):\n",
    "        mycause = mycause.append(Series([\"M\"]))\n",
    "    if c.startswith(\"E\"):\n",
    "        mycause = mycause.append(Series([\"E\"]))\n",
    "    else:\n",
    "        mycause = mycause.append(Series([\"S\"]))\n",
    "        \n",
    "d01_n9_clean.CAUSE = causes\n",
    "print(d01_n9_clean.CAUSE.iloc[0:10])"
   ]
  },
  {
   "cell_type": "code",
   "execution_count": 18,
   "metadata": {},
   "outputs": [],
   "source": [
    "# Clean up CAUSE\n",
    "# Use the top of the hierarchy in CAUSE"
   ]
  },
  {
   "cell_type": "code",
   "execution_count": 17,
   "metadata": {},
   "outputs": [],
   "source": [
    "# combining narratives into one list"
   ]
  }
 ],
 "metadata": {
  "celltoolbar": "Raw Cell Format",
  "kernelspec": {
   "display_name": "Python 3",
   "language": "python",
   "name": "python3"
  },
  "language_info": {
   "codemirror_mode": {
    "name": "ipython",
    "version": 3.0
   },
   "file_extension": ".py",
   "mimetype": "text/x-python",
   "name": "python",
   "nbconvert_exporter": "python",
   "pygments_lexer": "ipython3",
   "version": "3.4.3"
  }
 },
 "nbformat": 4,
 "nbformat_minor": 0
}