{
 "cells": [
  {
   "cell_type": "markdown",
   "metadata": {},
   "source": [
    "Created by Donald E. Brown on 2015-09-12.\n",
    "Copyright (c) 2015 Donald E. Brown. All rights reserved."
   ]
  },
  {
   "cell_type": "markdown",
   "metadata": {},
   "source": [
    "Functions to format and clean the train data files for analysis"
   ]
  },
  {
   "cell_type": "markdown",
   "metadata": {},
   "source": [
    "# Installation Notes\n",
    "\n",
    "Download and install the Anaconda scientific python distribution for your operating system"
   ]
  },
  {
   "cell_type": "code",
   "execution_count": 1,
   "metadata": {},
   "outputs": [
    {
     "ename": "SyntaxError",
     "evalue": "invalid syntax (<ipython-input-1-e74a7aa51d0d>, line 3)",
     "output_type": "error",
     "traceback": [
      "\u001b[0;36m  File \u001b[0;32m\"<ipython-input-1-e74a7aa51d0d>\"\u001b[0;36m, line \u001b[0;32m3\u001b[0m\n\u001b[0;31m    conda install matplotlib scikit-learn seaborn\u001b[0m\n\u001b[0m                ^\u001b[0m\n\u001b[0;31mSyntaxError\u001b[0m\u001b[0;31m:\u001b[0m invalid syntax\n"
     ]
    }
   ],
   "source": [
    "# Install packages using anaconda package manager\n",
    "\n",
    "conda install matplotlib scikit-learn seaborn"
   ]
  },
  {
   "cell_type": "code",
   "execution_count": 2,
   "metadata": {},
   "outputs": [],
   "source": [
    "# Data\n",
    "import pandas as pd\n",
    "import numpy as np\n",
    "import scipy as sp\n",
    "import os\n",
    "import string as st\n",
    "from collections import Counter\n",
    "\n",
    "# Statistics\n",
    "import statsmodels.api as sm\n",
    "import statsmodels.sandbox.tools.tools_pca as sm_pca\n",
    "from statsmodels.formula.api import ols as sm_ols\n",
    "from statsmodels.stats.anova import anova_lm as sm_anova\n",
    "from patsy.contrasts import Treatment\n",
    "\n",
    "# Plotting\n",
    "import seaborn as sns\n",
    "import matplotlib as mpl\n",
    "import matplotlib.pyplot as plt\n",
    "from pylab import savefig\n",
    "\n",
    "sns.set(style=\"darkgrid\", color_codes=True)\n",
    "\n",
    "# Printing\n",
    "import locale\n",
    "\n",
    "locale.setlocale( locale.LC_ALL, '' )\n",
    "\n",
    "%matplotlib inline\n",
    "\n",
    "# Check for errors"
   ]
  },
  {
   "cell_type": "markdown",
   "metadata": {},
   "source": [
    "## Pandas Review\n",
    "\n",
    "A short review of elements of Pandas"
   ]
  },
  {
   "cell_type": "code",
   "execution_count": 4,
   "metadata": {},
   "outputs": [
    {
     "name": "stdout",
     "output_type": "stream",
     "text": [
      "0    1\n",
      "1    2\n",
      "2    3\n",
      "3    4\n",
      "dtype: int64\n",
      "[1 2 3 4]\n",
      "Int64Index([0, 1, 2, 3], dtype='int64')\n"
     ]
    }
   ],
   "source": [
    "# Series: one dimensional array with index\n",
    "\n",
    "myseries = pd.Series([1,2,3,4])\n",
    "print(myseries)\n",
    "print(myseries.values)\n",
    "print(myseries.index)\n",
    "myseries = pd.Series([1,2,3,4], index = ['a','b','c','d'])"
   ]
  },
  {
   "cell_type": "code",
   "execution_count": 5,
   "metadata": {},
   "outputs": [
    {
     "name": "stdout",
     "output_type": "stream",
     "text": [
      "a    1\n",
      "b    2\n",
      "c    3\n",
      "d    4\n",
      "dtype: int64\n",
      "[1 2 3 4]\n",
      "Index(['a', 'b', 'c', 'd'], dtype='object')\n"
     ]
    }
   ],
   "source": [
    "myseries = pd.Series([1,2,3,4], index = ['a','b','c','d'])\n",
    "print(myseries)\n",
    "print(myseries.values)\n",
    "print(myseries.index)"
   ]
  },
  {
   "cell_type": "code",
   "execution_count": 6,
   "metadata": {},
   "outputs": [
    {
     "data": {
      "text/plain": [
       "a     5\n",
       "b    10\n",
       "dtype: int64"
      ]
     },
     "execution_count": 6,
     "output_type": "execute_result",
     "metadata": {}
    }
   ],
   "source": [
    "# indexing series\n",
    "myseries[['a', 'b']]*5"
   ]
  },
  {
   "cell_type": "code",
   "execution_count": 7,
   "metadata": {},
   "outputs": [
    {
     "data": {
      "text/plain": [
       "a     1\n",
       "b     3\n",
       "c     5\n",
       "d     7\n",
       "e   NaN\n",
       "dtype: float64"
      ]
     },
     "execution_count": 7,
     "output_type": "execute_result",
     "metadata": {}
    }
   ],
   "source": [
    "myseries2 = pd.Series(range(5), ['a','b','c','d', 'e'])\n",
    "myseries + myseries2"
   ]
  },
  {
   "cell_type": "code",
   "execution_count": 8,
   "metadata": {},
   "outputs": [
    {
     "name": "stdout",
     "output_type": "stream",
     "text": [
      "  atom  mass  num\n",
      "0    H   1.0    1\n",
      "1   He   4.0    2\n",
      "2   Li   6.9    3\n",
      "  atom  num    c\n",
      "a    H    1  NaN\n",
      "b   He    2  NaN\n",
      "c   Li    3  NaN\n"
     ]
    }
   ],
   "source": [
    "# Data Frames\n",
    "# two dimensional structure like a spreadsheet\n",
    "# Structure similar to R\n",
    "\n",
    "data = {'atom':['H','He','Li'],'num':[1,2,3],'mass':[1.0,4.0,6.9]}\n",
    "df1 = pd.DataFrame(data)\n",
    "df2 = pd.DataFrame(data,columns=['atom','num','c'],index = ['a', 'b', 'c'])\n",
    "\n",
    "print(df1)\n",
    "print(df2)"
   ]
  },
  {
   "cell_type": "code",
   "execution_count": 9,
   "metadata": {},
   "outputs": [
    {
     "name": "stdout",
     "output_type": "stream",
     "text": [
      "Index(['atom', 'mass', 'num'], dtype='object')\n",
      "0     H\n",
      "1    He\n",
      "2    Li\n",
      "Name: atom, dtype: object\n",
      "0     H\n",
      "1    He\n",
      "2    Li\n",
      "Name: atom, dtype: object\n",
      "atom     He\n",
      "num       2\n",
      "c       NaN\n",
      "Name: b, dtype: object\n",
      "atom     Li\n",
      "num       3\n",
      "c       NaN\n",
      "Name: c, dtype: object\n",
      "atom     He\n",
      "num       2\n",
      "c       NaN\n",
      "Name: b, dtype: object\n",
      "atom     Li\n",
      "num       3\n",
      "c       NaN\n",
      "Name: c, dtype: object\n"
     ]
    }
   ],
   "source": [
    "# Referencing data frames\n",
    "\n",
    "print(df1.columns)\n",
    "print(df1.atom)\n",
    "print(df1['atom'])\n",
    "print(df2.ix[1]) # rows\n",
    "print(df2.ix[\"c\"])\n",
    "print(df2.iloc[1])\n",
    "print(df2.loc['c'])"
   ]
  },
  {
   "cell_type": "code",
   "execution_count": 10,
   "metadata": {},
   "outputs": [
    {
     "data": {
      "text/html": [
       "<div>\n",
       "<table border=\"1\" class=\"dataframe\">\n",
       "  <thead>\n",
       "    <tr style=\"text-align: right;\">\n",
       "      <th></th>\n",
       "      <th>atom</th>\n",
       "      <th>num</th>\n",
       "      <th>c</th>\n",
       "      <th>color</th>\n",
       "    </tr>\n",
       "  </thead>\n",
       "  <tbody>\n",
       "    <tr>\n",
       "      <th>a</th>\n",
       "      <td>H</td>\n",
       "      <td>1</td>\n",
       "      <td>NaN</td>\n",
       "      <td>r</td>\n",
       "    </tr>\n",
       "    <tr>\n",
       "      <th>b</th>\n",
       "      <td>He</td>\n",
       "      <td>2</td>\n",
       "      <td>NaN</td>\n",
       "      <td>g</td>\n",
       "    </tr>\n",
       "    <tr>\n",
       "      <th>c</th>\n",
       "      <td>Li</td>\n",
       "      <td>3</td>\n",
       "      <td>NaN</td>\n",
       "      <td>b</td>\n",
       "    </tr>\n",
       "  </tbody>\n",
       "</table>\n",
       "</div>"
      ]
     },
     "output_type": "execute_result",
     "metadata": {}
    }
   ],
   "source": [
    "# Adding columns\n",
    "\n",
    "df2[\"color\"]= ['r', 'g', 'b']\n",
    "df2\n",
    "\n",
    "# note: you cannot use df2.color"
   ]
  },
  {
   "cell_type": "code",
   "execution_count": 11,
   "metadata": {},
   "outputs": [
    {
     "data": {
      "text/html": [
       "<div>\n",
       "<table border=\"1\" class=\"dataframe\">\n",
       "  <thead>\n",
       "    <tr style=\"text-align: right;\">\n",
       "      <th></th>\n",
       "      <th>atom</th>\n",
       "      <th>num</th>\n",
       "      <th>color</th>\n",
       "    </tr>\n",
       "  </thead>\n",
       "  <tbody>\n",
       "    <tr>\n",
       "      <th>a</th>\n",
       "      <td>H</td>\n",
       "      <td>1</td>\n",
       "      <td>r</td>\n",
       "    </tr>\n",
       "    <tr>\n",
       "      <th>b</th>\n",
       "      <td>He</td>\n",
       "      <td>2</td>\n",
       "      <td>g</td>\n",
       "    </tr>\n",
       "    <tr>\n",
       "      <th>c</th>\n",
       "      <td>Li</td>\n",
       "      <td>3</td>\n",
       "      <td>b</td>\n",
       "    </tr>\n",
       "  </tbody>\n",
       "</table>\n",
       "</div>"
      ]
     },
     "output_type": "execute_result",
     "metadata": {}
    }
   ],
   "source": [
    "# Deleting columns\n",
    "\n",
    "del df2['c']\n",
    "df2"
   ]
  },
  {
   "cell_type": "code",
   "execution_count": 12,
   "metadata": {},
   "outputs": [
    {
     "data": {
      "text/plain": [
       "array([['H', 1, 'r'],\n",
       "       ['He', 2, 'g'],\n",
       "       ['Li', 3, 'b']], dtype=object)"
      ]
     },
     "execution_count": 12,
     "output_type": "execute_result",
     "metadata": {}
    }
   ],
   "source": [
    "# The data frame array\n",
    "\n",
    "df2.values"
   ]
  },
  {
   "cell_type": "code",
   "execution_count": 13,
   "metadata": {},
   "outputs": [
    {
     "name": "stdout",
     "output_type": "stream",
     "text": [
      "0    0\n",
      "1    1\n",
      "2    2\n",
      "3    3\n",
      "4    4\n",
      "dtype: int64\n",
      "a   NaN\n",
      "4     4\n",
      "2     2\n",
      "d   NaN\n",
      "e   NaN\n",
      "dtype: float64\n"
     ]
    }
   ],
   "source": [
    "# Indices and columns are immutable\n",
    "# use reindex() to create a new object\n",
    "# with different indices and columns\n",
    "\n",
    "ser = pd.Series(np.arange(5))\n",
    "ser2= ser.reindex(['a',4,2,'d','e'])\n",
    "print(ser)\n",
    "print(ser2)"
   ]
  },
  {
   "cell_type": "code",
   "execution_count": 14,
   "metadata": {},
   "outputs": [
    {
     "data": {
      "text/html": [
       "<div>\n",
       "<table border=\"1\" class=\"dataframe\">\n",
       "  <thead>\n",
       "    <tr style=\"text-align: right;\">\n",
       "      <th></th>\n",
       "      <th>Ohio</th>\n",
       "      <th>Texas</th>\n",
       "      <th>California</th>\n",
       "    </tr>\n",
       "  </thead>\n",
       "  <tbody>\n",
       "    <tr>\n",
       "      <th>a</th>\n",
       "      <td>0</td>\n",
       "      <td>1</td>\n",
       "      <td>2</td>\n",
       "    </tr>\n",
       "    <tr>\n",
       "      <th>c</th>\n",
       "      <td>3</td>\n",
       "      <td>4</td>\n",
       "      <td>5</td>\n",
       "    </tr>\n",
       "    <tr>\n",
       "      <th>d</th>\n",
       "      <td>6</td>\n",
       "      <td>7</td>\n",
       "      <td>8</td>\n",
       "    </tr>\n",
       "  </tbody>\n",
       "</table>\n",
       "</div>"
      ]
     },
     "output_type": "execute_result",
     "metadata": {}
    }
   ],
   "source": [
    "# Reindexiing data frames\n",
    "\n",
    "df3 = pd.DataFrame(np.arange(9).reshape(3,3), index = ['a','c','d'], columns = ['Ohio', 'Texas','California'])\n",
    "df3"
   ]
  },
  {
   "cell_type": "code",
   "execution_count": 15,
   "metadata": {},
   "outputs": [
    {
     "data": {
      "text/html": [
       "<div>\n",
       "<table border=\"1\" class=\"dataframe\">\n",
       "  <thead>\n",
       "    <tr style=\"text-align: right;\">\n",
       "      <th></th>\n",
       "      <th>Ohio</th>\n",
       "      <th>Texas</th>\n",
       "      <th>California</th>\n",
       "    </tr>\n",
       "  </thead>\n",
       "  <tbody>\n",
       "    <tr>\n",
       "      <th>a</th>\n",
       "      <td>0</td>\n",
       "      <td>1</td>\n",
       "      <td>2</td>\n",
       "    </tr>\n",
       "    <tr>\n",
       "      <th>b</th>\n",
       "      <td>NaN</td>\n",
       "      <td>NaN</td>\n",
       "      <td>NaN</td>\n",
       "    </tr>\n",
       "    <tr>\n",
       "      <th>c</th>\n",
       "      <td>3</td>\n",
       "      <td>4</td>\n",
       "      <td>5</td>\n",
       "    </tr>\n",
       "    <tr>\n",
       "      <th>d</th>\n",
       "      <td>6</td>\n",
       "      <td>7</td>\n",
       "      <td>8</td>\n",
       "    </tr>\n",
       "  </tbody>\n",
       "</table>\n",
       "</div>"
      ]
     },
     "output_type": "execute_result",
     "metadata": {}
    }
   ],
   "source": [
    "df4 = df3.reindex(['a','b','c','d'])\n",
    "df4"
   ]
  },
  {
   "cell_type": "code",
   "execution_count": 16,
   "metadata": {},
   "outputs": [
    {
     "data": {
      "text/html": [
       "<div>\n",
       "<table border=\"1\" class=\"dataframe\">\n",
       "  <thead>\n",
       "    <tr style=\"text-align: right;\">\n",
       "      <th></th>\n",
       "      <th>Virginia</th>\n",
       "      <th>Texas</th>\n",
       "      <th>California</th>\n",
       "    </tr>\n",
       "  </thead>\n",
       "  <tbody>\n",
       "    <tr>\n",
       "      <th>a</th>\n",
       "      <td>NaN</td>\n",
       "      <td>1</td>\n",
       "      <td>2</td>\n",
       "    </tr>\n",
       "    <tr>\n",
       "      <th>c</th>\n",
       "      <td>NaN</td>\n",
       "      <td>4</td>\n",
       "      <td>5</td>\n",
       "    </tr>\n",
       "    <tr>\n",
       "      <th>d</th>\n",
       "      <td>NaN</td>\n",
       "      <td>7</td>\n",
       "      <td>8</td>\n",
       "    </tr>\n",
       "  </tbody>\n",
       "</table>\n",
       "</div>"
      ]
     },
     "output_type": "execute_result",
     "metadata": {}
    }
   ],
   "source": [
    "# reindexing columns\n",
    "\n",
    "states = ['Virginia', 'Texas','California']\n",
    "df3.reindex(columns = states)"
   ]
  },
  {
   "cell_type": "code",
   "execution_count": 17,
   "metadata": {},
   "outputs": [
    {
     "data": {
      "text/html": [
       "<div>\n",
       "<table border=\"1\" class=\"dataframe\">\n",
       "  <thead>\n",
       "    <tr style=\"text-align: right;\">\n",
       "      <th></th>\n",
       "      <th>Virginia</th>\n",
       "      <th>Texas</th>\n",
       "      <th>California</th>\n",
       "    </tr>\n",
       "  </thead>\n",
       "  <tbody>\n",
       "    <tr>\n",
       "      <th>a</th>\n",
       "      <td>NaN</td>\n",
       "      <td>1</td>\n",
       "      <td>2</td>\n",
       "    </tr>\n",
       "    <tr>\n",
       "      <th>b</th>\n",
       "      <td>NaN</td>\n",
       "      <td>1</td>\n",
       "      <td>2</td>\n",
       "    </tr>\n",
       "    <tr>\n",
       "      <th>c</th>\n",
       "      <td>NaN</td>\n",
       "      <td>4</td>\n",
       "      <td>5</td>\n",
       "    </tr>\n",
       "    <tr>\n",
       "      <th>d</th>\n",
       "      <td>NaN</td>\n",
       "      <td>7</td>\n",
       "      <td>8</td>\n",
       "    </tr>\n",
       "  </tbody>\n",
       "</table>\n",
       "</div>"
      ]
     },
     "output_type": "execute_result",
     "metadata": {}
    }
   ],
   "source": [
    "# both rows and columns\n",
    "df3.reindex(index = ['a','b','c','d'], columns = states, method = 'ffill')"
   ]
  },
  {
   "cell_type": "code",
   "execution_count": 18,
   "metadata": {},
   "outputs": [
    {
     "name": "stdout",
     "output_type": "stream",
     "text": [
      "   Ohio  Texas  California\n",
      "a     0      1           2\n",
      "c     3      4           5\n",
      "d     6      7           8\n",
      "Ohio          0\n",
      "Texas         1\n",
      "California    2\n",
      "Name: a, dtype: int64\n",
      "   Ohio  Texas  California\n",
      "a     0      0           0\n",
      "c     3      3           3\n",
      "d     6      6           6\n"
     ]
    }
   ],
   "source": [
    "# Math between series and data frames\n",
    "aseries = df3.ix[0]\n",
    "print(df3)\n",
    "print(aseries)\n",
    "print(df3 - aseries)"
   ]
  },
  {
   "cell_type": "code",
   "execution_count": 19,
   "metadata": {},
   "outputs": [
    {
     "name": "stdout",
     "output_type": "stream",
     "text": [
      "                   b         d         e\n",
      "Virginia    1.133555 -0.634885  1.423285\n",
      "Texas       0.649817 -0.256793  0.160909\n",
      "California  0.029092 -1.143908  0.439976\n",
      "Oregon      0.095727 -1.088169  1.043679\n",
      "                   b         d         e\n",
      "Virginia    1.133555  0.634885  1.423285\n",
      "Texas       0.649817  0.256793  0.160909\n",
      "California  0.029092  1.143908  0.439976\n",
      "Oregon      0.095727  1.088169  1.043679\n"
     ]
    }
   ],
   "source": [
    "# Functions applied to data frames\n",
    "states.append('Oregon')\n",
    "df3 = pd.DataFrame(np.random.randn(4,3), index = states, columns = list('bde') )\n",
    "print(df3)\n",
    "print(np.abs(df3))"
   ]
  },
  {
   "cell_type": "code",
   "execution_count": 20,
   "metadata": {},
   "outputs": [
    {
     "name": "stdout",
     "output_type": "stream",
     "text": [
      "b    1.104464\n",
      "d    0.887115\n",
      "e    1.262376\n",
      "dtype: float64\n",
      "Virginia      2.058170\n",
      "Texas         0.906610\n",
      "California    1.583885\n",
      "Oregon        2.131847\n",
      "dtype: float64\n"
     ]
    }
   ],
   "source": [
    "# applying a function to each row or column \n",
    "\n",
    "afunction = lambda x: x.max()-x.min()\n",
    "\n",
    "print(df3.apply(afunction))\n",
    "print(df3.apply(afunction, axis = 1))"
   ]
  },
  {
   "cell_type": "code",
   "execution_count": 21,
   "metadata": {},
   "outputs": [
    {
     "data": {
      "text/html": [
       "<div>\n",
       "<table border=\"1\" class=\"dataframe\">\n",
       "  <thead>\n",
       "    <tr style=\"text-align: right;\">\n",
       "      <th></th>\n",
       "      <th>b</th>\n",
       "      <th>d</th>\n",
       "      <th>e</th>\n",
       "    </tr>\n",
       "  </thead>\n",
       "  <tbody>\n",
       "    <tr>\n",
       "      <th>Virginia</th>\n",
       "      <td>1.13</td>\n",
       "      <td>-0.63</td>\n",
       "      <td>1.42</td>\n",
       "    </tr>\n",
       "    <tr>\n",
       "      <th>Texas</th>\n",
       "      <td>0.65</td>\n",
       "      <td>-0.26</td>\n",
       "      <td>0.16</td>\n",
       "    </tr>\n",
       "    <tr>\n",
       "      <th>California</th>\n",
       "      <td>0.03</td>\n",
       "      <td>-1.14</td>\n",
       "      <td>0.44</td>\n",
       "    </tr>\n",
       "    <tr>\n",
       "      <th>Oregon</th>\n",
       "      <td>0.10</td>\n",
       "      <td>-1.09</td>\n",
       "      <td>1.04</td>\n",
       "    </tr>\n",
       "  </tbody>\n",
       "</table>\n",
       "</div>"
      ]
     },
     "output_type": "execute_result",
     "metadata": {}
    }
   ],
   "source": [
    "# Element-wise function application\n",
    "\n",
    "format = lambda x: '%.2f' % x\n",
    "df3.applymap(format)"
   ]
  },
  {
   "cell_type": "code",
   "execution_count": 22,
   "metadata": {},
   "outputs": [
    {
     "name": "stdout",
     "output_type": "stream",
     "text": [
      "b    0\n",
      "d    1\n",
      "a    2\n",
      "c    3\n",
      "dtype: int64\n",
      "a    2\n",
      "b    0\n",
      "c    3\n",
      "d    1\n",
      "dtype: int64\n"
     ]
    }
   ],
   "source": [
    "# Sorting and ranking\n",
    "\n",
    "aseries = pd.Series(range(4), index = ['b', 'd', 'a', 'c'])\n",
    "print(aseries)\n",
    "print(aseries.sort_index())"
   ]
  },
  {
   "cell_type": "code",
   "execution_count": 23,
   "metadata": {},
   "outputs": [
    {
     "name": "stdout",
     "output_type": "stream",
     "text": [
      "       b  d  a  c\n",
      "Three  0  1  2  3\n",
      "One    4  5  6  7\n",
      "       b  d  a  c\n",
      "One    4  5  6  7\n",
      "Three  0  1  2  3\n",
      "       a  b  c  d\n",
      "Three  2  0  3  1\n",
      "One    6  4  7  5\n",
      "       d  c  b  a\n",
      "Three  1  3  0  2\n",
      "One    5  7  4  6\n"
     ]
    }
   ],
   "source": [
    "# Sorting a data frame\n",
    "\n",
    "df3 = pd.DataFrame(np.arange(8).reshape(2,4), index = ['Three', 'One'], columns =['b', 'd', 'a', 'c'])\n",
    "print(df3)\n",
    "print(df3.sort_index())\n",
    "print(df3.sort_index(axis =1))\n",
    "print(df3.sort_index(axis = 1, ascending = False))"
   ]
  },
  {
   "cell_type": "code",
   "execution_count": 24,
   "metadata": {},
   "outputs": [
    {
     "name": "stdout",
     "output_type": "stream",
     "text": [
      "   a  b\n",
      "0  0  4\n",
      "1  1  7\n",
      "2  0 -3\n",
      "3  1  2\n",
      "   a  b\n",
      "2  0 -3\n",
      "3  1  2\n",
      "0  0  4\n",
      "1  1  7\n",
      "   a  b\n",
      "2  0 -3\n",
      "0  0  4\n",
      "3  1  2\n",
      "1  1  7\n"
     ]
    }
   ],
   "source": [
    "df3 = pd.DataFrame({'b':[4,7,-3,2], 'a':[0,1,0,1]})\n",
    "print(df3)\n",
    "print(df3.sort_index(by='b'))\n",
    "print(df3.sort_index(by=['a','b']))"
   ]
  },
  {
   "cell_type": "code",
   "execution_count": 25,
   "metadata": {},
   "outputs": [
    {
     "name": "stdout",
     "output_type": "stream",
     "text": [
      "   a  b  c\n",
      "0  0  4  8\n",
      "1  1  7 -2\n",
      "2  0 -3  0\n",
      "3  1  2  4\n",
      "     a  b    c\n",
      "0  1.0  2  3.0\n",
      "1  2.0  3  1.0\n",
      "2  2.5  1  2.5\n",
      "3  1.0  2  3.0\n"
     ]
    }
   ],
   "source": [
    "# Ranking\n",
    "\n",
    "df3['c'] = [8,-2,0,4]\n",
    "print(df3)\n",
    "print(df3.rank(axis = 1))"
   ]
  },
  {
   "cell_type": "code",
   "execution_count": 26,
   "metadata": {},
   "outputs": [
    {
     "name": "stdout",
     "output_type": "stream",
     "text": [
      "    a   b  c\n",
      "0 NaN   4  8\n",
      "1   1   7  1\n",
      "2   0 NaN -2\n",
      "3   1   2  3\n",
      "   a  b  c\n",
      "0  0  4  8\n",
      "1  1  7  1\n",
      "2  0  0 -2\n",
      "3  1  2  3\n",
      "   a  b  c\n",
      "0 -1  4  8\n",
      "1  1  7  1\n",
      "2  0  0 -2\n",
      "3  1  2  3\n",
      "   a  b  c\n",
      "1  1  7  1\n",
      "3  1  2  3\n",
      "   c\n",
      "0  8\n",
      "1  1\n",
      "2 -2\n",
      "3  3\n",
      "       a      b      c\n",
      "0   True  False  False\n",
      "1  False  False  False\n",
      "2  False   True  False\n",
      "3  False  False  False\n",
      "       a      b     c\n",
      "0  False   True  True\n",
      "1   True   True  True\n",
      "2   True  False  True\n",
      "3   True   True  True\n"
     ]
    }
   ],
   "source": [
    "# Missing data\n",
    "df3 = pd.DataFrame({'b':[4,7,np.nan,2], 'a':[np.nan,1,0,1], 'c':[8,1,-2,3]})\n",
    "print(df3)\n",
    "print(df3.fillna(0))\n",
    "print(df3.fillna({'b':0, 'a':-1}))\n",
    "print(df3.dropna())\n",
    "print(df3.dropna(axis = 1))\n",
    "print(df3.isnull())\n",
    "print(df3.notnull())"
   ]
  },
  {
   "cell_type": "code",
   "execution_count": 27,
   "metadata": {},
   "outputs": [
    {
     "name": "stdout",
     "output_type": "stream",
     "text": [
      "a  1   -0.402806\n",
      "   3    1.604842\n",
      "b  5   -1.412799\n",
      "   2   -0.480726\n",
      "c  4   -0.769234\n",
      "dtype: float64\n",
      "MultiIndex(levels=[['a', 'b', 'c'], [1, 2, 3, 4, 5]],\n",
      "           labels=[[0, 0, 1, 1, 2], [0, 2, 4, 1, 3]])\n",
      "-0.402805663358\n",
      "-1.41279897217\n"
     ]
    }
   ],
   "source": [
    "# Hierarchical Indexing\n",
    "\n",
    "aseries=pd.Series(np.random.randn(5),index=[['a','a','b','b','c'],[1,3,5,2,4]])\n",
    "print(aseries)\n",
    "print(aseries.index)\n",
    "print(aseries[0])\n",
    "print(aseries[2])"
   ]
  },
  {
   "cell_type": "code",
   "execution_count": 28,
   "metadata": {},
   "outputs": [
    {
     "data": {
      "text/html": [
       "<div>\n",
       "<table border=\"1\" class=\"dataframe\">\n",
       "  <thead>\n",
       "    <tr style=\"text-align: right;\">\n",
       "      <th></th>\n",
       "      <th>1</th>\n",
       "      <th>2</th>\n",
       "      <th>3</th>\n",
       "      <th>4</th>\n",
       "      <th>5</th>\n",
       "    </tr>\n",
       "  </thead>\n",
       "  <tbody>\n",
       "    <tr>\n",
       "      <th>a</th>\n",
       "      <td>-0.402806</td>\n",
       "      <td>NaN</td>\n",
       "      <td>1.604842</td>\n",
       "      <td>NaN</td>\n",
       "      <td>NaN</td>\n",
       "    </tr>\n",
       "    <tr>\n",
       "      <th>b</th>\n",
       "      <td>NaN</td>\n",
       "      <td>-0.480726</td>\n",
       "      <td>NaN</td>\n",
       "      <td>NaN</td>\n",
       "      <td>-1.412799</td>\n",
       "    </tr>\n",
       "    <tr>\n",
       "      <th>c</th>\n",
       "      <td>NaN</td>\n",
       "      <td>NaN</td>\n",
       "      <td>NaN</td>\n",
       "      <td>-0.769234</td>\n",
       "      <td>NaN</td>\n",
       "    </tr>\n",
       "  </tbody>\n",
       "</table>\n",
       "</div>"
      ]
     },
     "output_type": "execute_result",
     "metadata": {}
    }
   ],
   "source": [
    "# converting to a data fram\n",
    "aseries.unstack()"
   ]
  },
  {
   "cell_type": "code",
   "execution_count": 29,
   "metadata": {},
   "outputs": [
    {
     "name": "stdout",
     "output_type": "stream",
     "text": [
      "     alderman   clemons     brown\n",
      "        alpha      beta      beta\n",
      "a 1  1.295392  0.316925  1.159996\n",
      "  1 -0.600375  0.363204 -0.816051\n",
      "b 2 -0.459017  0.223087 -1.043007\n",
      "  2 -0.633744 -0.583404 -1.212920\n",
      "        alpha\n",
      "a 1  1.295392\n",
      "  1 -0.600375\n",
      "b 2 -0.459017\n",
      "  2 -0.633744\n"
     ]
    }
   ],
   "source": [
    "df3 = pd.DataFrame(np.random.randn(4,3),index=[['a','a','b','b'],[1,1,2,2]],columns=[['alderman','clemons','brown'],['alpha','beta','beta']])\n",
    "print(df3)\n",
    "print(df3['alderman'])"
   ]
  },
  {
   "cell_type": "code",
   "execution_count": 30,
   "metadata": {},
   "outputs": [
    {
     "name": "stdout",
     "output_type": "stream",
     "text": [
      "     alderman   clemons     brown\n",
      "        alpha      beta      beta\n",
      "1 a  1.295392  0.316925  1.159996\n",
      "  a -0.600375  0.363204 -0.816051\n",
      "2 b -0.459017  0.223087 -1.043007\n",
      "  b -0.633744 -0.583404 -1.212920\n",
      "        alpha      beta          \n",
      "     alderman   clemons     brown\n",
      "a 1  1.295392  0.316925  1.159996\n",
      "  1 -0.600375  0.363204 -0.816051\n",
      "b 2 -0.459017  0.223087 -1.043007\n",
      "  2 -0.633744 -0.583404 -1.212920\n",
      "      clemons     brown\n",
      "a 1  0.316925  1.159996\n",
      "  1  0.363204 -0.816051\n",
      "b 2  0.223087 -1.043007\n",
      "  2 -0.583404 -1.212920\n"
     ]
    }
   ],
   "source": [
    "# Swapping levels\n",
    "\n",
    "print(df3.swaplevel(0,1))\n",
    "print(df3.swaplevel(0,1, axis = 1))\n",
    "print(df3.swaplevel(0,1, axis = 1)['beta'])"
   ]
  },
  {
   "cell_type": "code",
   "execution_count": 31,
   "metadata": {},
   "outputs": [
    {
     "name": "stdout",
     "output_type": "stream",
     "text": [
      "     alderman   clemons     brown\n",
      "        alpha      beta      beta\n",
      "a 1  1.295392  0.316925  1.159996\n",
      "  1 -0.600375  0.363204 -0.816051\n",
      "b 2 -0.459017  0.223087 -1.043007\n",
      "  2 -0.633744 -0.583404 -1.212920\n",
      "   alderman   clemons     brown\n",
      "      alpha      beta      beta\n",
      "a  0.695016  0.680129  0.343945\n",
      "b -1.092762 -0.360316 -2.255928\n",
      "   alderman   clemons     brown\n",
      "      alpha      beta      beta\n",
      "1  0.695016  0.680129  0.343945\n",
      "2 -1.092762 -0.360316 -2.255928\n",
      "        alpha      beta\n",
      "a 1  1.295392  1.476921\n",
      "  1 -0.600375 -0.452847\n",
      "b 2 -0.459017 -0.819920\n",
      "  2 -0.633744 -1.796324\n"
     ]
    }
   ],
   "source": [
    "# statistics on levels\n",
    "print(df3)\n",
    "print(df3.sum(level=0))\n",
    "print(df3.sum(level=1))\n",
    "print(df3.sum(level=1,axis=1))"
   ]
  },
  {
   "cell_type": "markdown",
   "metadata": {},
   "source": [
    "## Merging Data Frames\n"
   ]
  },
  {
   "cell_type": "code",
   "execution_count": 32,
   "metadata": {},
   "outputs": [
    {
     "name": "stdout",
     "output_type": "stream",
     "text": [
      "   data1 key\n",
      "0      0   b\n",
      "1      1   b\n",
      "2      2   a\n",
      "3      3   c\n",
      "4      4   a\n",
      "5      5   a\n",
      "6      6   b\n",
      "   data2 key\n",
      "0      0   a\n",
      "1      1   b\n",
      "2      2   d\n",
      "3      3   a\n"
     ]
    }
   ],
   "source": [
    "# Data frames for examples\n",
    "\n",
    "df1 = pd.DataFrame({'key':['b','b','a','c','a','a','b'],'data1':range(7)})\n",
    "df2 = pd.DataFrame({'key':['a','b','d','a'],'data2':range(4)})\n",
    "print(df1)\n",
    "print(df2)"
   ]
  },
  {
   "cell_type": "code",
   "execution_count": 33,
   "metadata": {},
   "outputs": [
    {
     "data": {
      "text/html": [
       "<div>\n",
       "<table border=\"1\" class=\"dataframe\">\n",
       "  <thead>\n",
       "    <tr style=\"text-align: right;\">\n",
       "      <th></th>\n",
       "      <th>data1</th>\n",
       "      <th>key</th>\n",
       "      <th>data2</th>\n",
       "    </tr>\n",
       "  </thead>\n",
       "  <tbody>\n",
       "    <tr>\n",
       "      <th>0</th>\n",
       "      <td>0</td>\n",
       "      <td>b</td>\n",
       "      <td>1</td>\n",
       "    </tr>\n",
       "    <tr>\n",
       "      <th>1</th>\n",
       "      <td>1</td>\n",
       "      <td>b</td>\n",
       "      <td>1</td>\n",
       "    </tr>\n",
       "    <tr>\n",
       "      <th>2</th>\n",
       "      <td>6</td>\n",
       "      <td>b</td>\n",
       "      <td>1</td>\n",
       "    </tr>\n",
       "    <tr>\n",
       "      <th>3</th>\n",
       "      <td>2</td>\n",
       "      <td>a</td>\n",
       "      <td>0</td>\n",
       "    </tr>\n",
       "    <tr>\n",
       "      <th>4</th>\n",
       "      <td>2</td>\n",
       "      <td>a</td>\n",
       "      <td>3</td>\n",
       "    </tr>\n",
       "    <tr>\n",
       "      <th>5</th>\n",
       "      <td>4</td>\n",
       "      <td>a</td>\n",
       "      <td>0</td>\n",
       "    </tr>\n",
       "    <tr>\n",
       "      <th>6</th>\n",
       "      <td>4</td>\n",
       "      <td>a</td>\n",
       "      <td>3</td>\n",
       "    </tr>\n",
       "    <tr>\n",
       "      <th>7</th>\n",
       "      <td>5</td>\n",
       "      <td>a</td>\n",
       "      <td>0</td>\n",
       "    </tr>\n",
       "    <tr>\n",
       "      <th>8</th>\n",
       "      <td>5</td>\n",
       "      <td>a</td>\n",
       "      <td>3</td>\n",
       "    </tr>\n",
       "  </tbody>\n",
       "</table>\n",
       "</div>"
      ]
     },
     "output_type": "execute_result",
     "metadata": {}
    }
   ],
   "source": [
    "# Example of merging on a key\n",
    "\n",
    "pd.merge(df1,df2, on = \"key\")"
   ]
  },
  {
   "cell_type": "code",
   "execution_count": 34,
   "metadata": {},
   "outputs": [
    {
     "data": {
      "text/html": [
       "<div>\n",
       "<table border=\"1\" class=\"dataframe\">\n",
       "  <thead>\n",
       "    <tr style=\"text-align: right;\">\n",
       "      <th></th>\n",
       "      <th>data1</th>\n",
       "      <th>key_x</th>\n",
       "      <th>data2</th>\n",
       "      <th>key_y</th>\n",
       "    </tr>\n",
       "  </thead>\n",
       "  <tbody>\n",
       "    <tr>\n",
       "      <th>0</th>\n",
       "      <td>0</td>\n",
       "      <td>b</td>\n",
       "      <td>0</td>\n",
       "      <td>a</td>\n",
       "    </tr>\n",
       "    <tr>\n",
       "      <th>1</th>\n",
       "      <td>1</td>\n",
       "      <td>b</td>\n",
       "      <td>1</td>\n",
       "      <td>b</td>\n",
       "    </tr>\n",
       "    <tr>\n",
       "      <th>2</th>\n",
       "      <td>2</td>\n",
       "      <td>a</td>\n",
       "      <td>2</td>\n",
       "      <td>d</td>\n",
       "    </tr>\n",
       "    <tr>\n",
       "      <th>3</th>\n",
       "      <td>3</td>\n",
       "      <td>c</td>\n",
       "      <td>3</td>\n",
       "      <td>a</td>\n",
       "    </tr>\n",
       "  </tbody>\n",
       "</table>\n",
       "</div>"
      ]
     },
     "output_type": "execute_result",
     "metadata": {}
    }
   ],
   "source": [
    "# Example merging with different keys,\n",
    "# left and right\n",
    "\n",
    "pd.merge(df1,df2,left_on='data1',right_on= 'data2')"
   ]
  },
  {
   "cell_type": "code",
   "execution_count": 35,
   "metadata": {},
   "outputs": [
    {
     "data": {
      "text/html": [
       "<div>\n",
       "<table border=\"1\" class=\"dataframe\">\n",
       "  <thead>\n",
       "    <tr style=\"text-align: right;\">\n",
       "      <th></th>\n",
       "      <th>data1</th>\n",
       "      <th>key</th>\n",
       "      <th>data2</th>\n",
       "    </tr>\n",
       "  </thead>\n",
       "  <tbody>\n",
       "    <tr>\n",
       "      <th>0</th>\n",
       "      <td>0</td>\n",
       "      <td>b</td>\n",
       "      <td>1</td>\n",
       "    </tr>\n",
       "    <tr>\n",
       "      <th>1</th>\n",
       "      <td>1</td>\n",
       "      <td>b</td>\n",
       "      <td>1</td>\n",
       "    </tr>\n",
       "    <tr>\n",
       "      <th>2</th>\n",
       "      <td>6</td>\n",
       "      <td>b</td>\n",
       "      <td>1</td>\n",
       "    </tr>\n",
       "    <tr>\n",
       "      <th>3</th>\n",
       "      <td>2</td>\n",
       "      <td>a</td>\n",
       "      <td>0</td>\n",
       "    </tr>\n",
       "    <tr>\n",
       "      <th>4</th>\n",
       "      <td>2</td>\n",
       "      <td>a</td>\n",
       "      <td>3</td>\n",
       "    </tr>\n",
       "    <tr>\n",
       "      <th>5</th>\n",
       "      <td>4</td>\n",
       "      <td>a</td>\n",
       "      <td>0</td>\n",
       "    </tr>\n",
       "    <tr>\n",
       "      <th>6</th>\n",
       "      <td>4</td>\n",
       "      <td>a</td>\n",
       "      <td>3</td>\n",
       "    </tr>\n",
       "    <tr>\n",
       "      <th>7</th>\n",
       "      <td>5</td>\n",
       "      <td>a</td>\n",
       "      <td>0</td>\n",
       "    </tr>\n",
       "    <tr>\n",
       "      <th>8</th>\n",
       "      <td>5</td>\n",
       "      <td>a</td>\n",
       "      <td>3</td>\n",
       "    </tr>\n",
       "    <tr>\n",
       "      <th>9</th>\n",
       "      <td>3</td>\n",
       "      <td>c</td>\n",
       "      <td>NaN</td>\n",
       "    </tr>\n",
       "    <tr>\n",
       "      <th>10</th>\n",
       "      <td>NaN</td>\n",
       "      <td>d</td>\n",
       "      <td>2</td>\n",
       "    </tr>\n",
       "  </tbody>\n",
       "</table>\n",
       "</div>"
      ]
     },
     "output_type": "execute_result",
     "metadata": {}
    }
   ],
   "source": [
    "# Union of the keys or outer join\n",
    "\n",
    "pd.merge(df1,df2,how= 'outer')"
   ]
  },
  {
   "cell_type": "code",
   "execution_count": 36,
   "metadata": {},
   "outputs": [
    {
     "data": {
      "text/html": [
       "<div>\n",
       "<table border=\"1\" class=\"dataframe\">\n",
       "  <thead>\n",
       "    <tr style=\"text-align: right;\">\n",
       "      <th></th>\n",
       "      <th>data1</th>\n",
       "      <th>key_x</th>\n",
       "      <th>data2</th>\n",
       "      <th>key_y</th>\n",
       "    </tr>\n",
       "  </thead>\n",
       "  <tbody>\n",
       "    <tr>\n",
       "      <th>0</th>\n",
       "      <td>0</td>\n",
       "      <td>b</td>\n",
       "      <td>0</td>\n",
       "      <td>a</td>\n",
       "    </tr>\n",
       "    <tr>\n",
       "      <th>1</th>\n",
       "      <td>1</td>\n",
       "      <td>b</td>\n",
       "      <td>1</td>\n",
       "      <td>b</td>\n",
       "    </tr>\n",
       "    <tr>\n",
       "      <th>2</th>\n",
       "      <td>2</td>\n",
       "      <td>a</td>\n",
       "      <td>2</td>\n",
       "      <td>d</td>\n",
       "    </tr>\n",
       "    <tr>\n",
       "      <th>3</th>\n",
       "      <td>3</td>\n",
       "      <td>c</td>\n",
       "      <td>3</td>\n",
       "      <td>a</td>\n",
       "    </tr>\n",
       "  </tbody>\n",
       "</table>\n",
       "</div>"
      ]
     },
     "output_type": "execute_result",
     "metadata": {}
    }
   ],
   "source": [
    "# Merge with indices or rows not variables or columns\n",
    "\n",
    "pd.merge(df1,df2,left_on='data1',right_index=True)"
   ]
  },
  {
   "cell_type": "code",
   "execution_count": 37,
   "metadata": {},
   "outputs": [
    {
     "name": "stdout",
     "output_type": "stream",
     "text": [
      "   Ohio  Nevada\n",
      "a     1       2\n",
      "c     3       4\n",
      "e     5       6\n",
      "   Missouri  Alabama\n",
      "b         7        8\n",
      "c         9       10\n",
      "d        11       12\n",
      "e        13       14\n"
     ]
    }
   ],
   "source": [
    "# More DF\n",
    "\n",
    "df3 = pd.DataFrame([[1.,2.],[3.,4.],[5.,6.]],index=['a','c','e'],columns=['Ohio','Nevada'])\n",
    "df4 = pd.DataFrame([[7.,8.],[9.,10.],[11.,12.],[13.,14.]],index=['b','c','d','e'],columns=['Missouri','Alabama'])\n",
    "print(df3)\n",
    "print(df4)"
   ]
  },
  {
   "cell_type": "code",
   "execution_count": 38,
   "metadata": {},
   "outputs": [
    {
     "data": {
      "text/html": [
       "<div>\n",
       "<table border=\"1\" class=\"dataframe\">\n",
       "  <thead>\n",
       "    <tr style=\"text-align: right;\">\n",
       "      <th></th>\n",
       "      <th>Ohio</th>\n",
       "      <th>Nevada</th>\n",
       "      <th>Missouri</th>\n",
       "      <th>Alabama</th>\n",
       "    </tr>\n",
       "  </thead>\n",
       "  <tbody>\n",
       "    <tr>\n",
       "      <th>a</th>\n",
       "      <td>1</td>\n",
       "      <td>2</td>\n",
       "      <td>NaN</td>\n",
       "      <td>NaN</td>\n",
       "    </tr>\n",
       "    <tr>\n",
       "      <th>b</th>\n",
       "      <td>NaN</td>\n",
       "      <td>NaN</td>\n",
       "      <td>7</td>\n",
       "      <td>8</td>\n",
       "    </tr>\n",
       "    <tr>\n",
       "      <th>c</th>\n",
       "      <td>3</td>\n",
       "      <td>4</td>\n",
       "      <td>9</td>\n",
       "      <td>10</td>\n",
       "    </tr>\n",
       "    <tr>\n",
       "      <th>d</th>\n",
       "      <td>NaN</td>\n",
       "      <td>NaN</td>\n",
       "      <td>11</td>\n",
       "      <td>12</td>\n",
       "    </tr>\n",
       "    <tr>\n",
       "      <th>e</th>\n",
       "      <td>5</td>\n",
       "      <td>6</td>\n",
       "      <td>13</td>\n",
       "      <td>14</td>\n",
       "    </tr>\n",
       "  </tbody>\n",
       "</table>\n",
       "</div>"
      ]
     },
     "output_type": "execute_result",
     "metadata": {}
    }
   ],
   "source": [
    "# join \n",
    "# merging by index\n",
    "\n",
    "df3.join(df4,how='outer')"
   ]
  },
  {
   "cell_type": "code",
   "execution_count": 39,
   "metadata": {},
   "outputs": [
    {
     "name": "stdout",
     "output_type": "stream",
     "text": [
      "   Ohio  Nevada  Missouri  Alabama\n",
      "a     1       2       NaN      NaN\n",
      "c     3       4       NaN      NaN\n",
      "e     5       6       NaN      NaN\n"
     ]
    }
   ],
   "source": [
    "print(df3.join(df4, on = 'Nevada'))"
   ]
  },
  {
   "cell_type": "code",
   "execution_count": 40,
   "metadata": {},
   "outputs": [
    {
     "name": "stdout",
     "output_type": "stream",
     "text": [
      "   data1  data2 key\n",
      "0      0    NaN   b\n",
      "1      1    NaN   b\n",
      "2      2    NaN   a\n",
      "3      3    NaN   c\n",
      "4      4    NaN   a\n",
      "5      5    NaN   a\n",
      "6      6    NaN   b\n",
      "0    NaN      0   a\n",
      "1    NaN      1   b\n",
      "2    NaN      2   d\n",
      "3    NaN      3   a\n",
      "   data1 key  data2  key\n",
      "0      0   b      0    a\n",
      "1      1   b      1    b\n",
      "2      2   a      2    d\n",
      "3      3   c      3    a\n",
      "4      4   a    NaN  NaN\n",
      "5      5   a    NaN  NaN\n",
      "6      6   b    NaN  NaN\n"
     ]
    }
   ],
   "source": [
    "# Concatinating data frames\n",
    "\n",
    "print(pd.concat([df1,df2]))\n",
    "print(pd.concat([df1,df2], axis = 1))"
   ]
  },
  {
   "cell_type": "markdown",
   "metadata": {},
   "source": [
    "## Train Accident Data Wrangling\n",
    "\n"
   ]
  },
  {
   "cell_type": "code",
   "execution_count": 41,
   "metadata": {},
   "outputs": [],
   "source": [
    "# Function to get the files from a directory\n",
    "\n",
    "def getallfiles(directory, extension = \".txt\"):\n",
    "    '''Get all files in directory with the specified extension\n",
    "        and put them into a list.\n",
    "        The default extension is txt. The input is the path to \n",
    "        the directory containing the files.'''\n",
    "    filenames = os.listdir(directory)\n",
    "    myfiles = []\n",
    "    for e in filenames:\n",
    "        if e.endswith(extension):\n",
    "            myfiles.append(os.path.realpath(e))\n",
    "    return myfiles\n",
    "\n",
    "# Here is an example\n",
    "# files = getallfiles(\"/Users/deb/Dropbox/department/Classes/SYS4021/sys 421 2012/data/TrainAccidents/\")"
   ]
  },
  {
   "cell_type": "code",
   "execution_count": 42,
   "metadata": {},
   "outputs": [],
   "source": [
    "def createlist(directory, extension = \".txt\"):\n",
    "    '''Put all files in the specified directory\n",
    "    with the chosen extension (txt is the default) \n",
    "    into a data fame'''\n",
    "    os.chdir(directory)\n",
    "    files = getallfiles(directory)\n",
    "    filelist = []\n",
    "    for i,file in enumerate(files):\n",
    "        filelist.append(pd.read_csv(os.path.realpath(file), low_memory = False, encoding = \"ISO-8859-1\"))\n",
    "    return(filelist)"
   ]
  },
  {
   "cell_type": "code",
   "execution_count": 48,
   "metadata": {},
   "outputs": [
    {
     "data": {
      "text/plain": [
       "(46883, 153)"
      ]
     },
     "execution_count": 48,
     "output_type": "execute_result",
     "metadata": {}
    }
   ],
   "source": [
    "# Create the data frame of all accidents\n",
    "#totacts = createlist(\"/Users/deb/Dropbox/department/Classes/SYS4021/sys 421 2012/data/TrainAccidents/\")\n",
    "acts = createlist(\"/Users/RustyRosti/MSDS/Fall/DS_6001/inclass2/data\")\n",
    "totacts = pd.concat(acts, ignore_index = True)\n",
    "totacts.shape"
   ]
  },
  {
   "cell_type": "code",
   "execution_count": 49,
   "metadata": {},
   "outputs": [
    {
     "data": {
      "text/html": [
       "<div>\n",
       "<table border=\"1\" class=\"dataframe\">\n",
       "  <thead>\n",
       "    <tr style=\"text-align: right;\">\n",
       "      <th></th>\n",
       "      <th>ACCDMG</th>\n",
       "      <th>TRNSPD</th>\n",
       "      <th>TONS</th>\n",
       "      <th>CARSDMG</th>\n",
       "      <th>TOTINJ</th>\n",
       "      <th>TOTKLD</th>\n",
       "    </tr>\n",
       "  </thead>\n",
       "  <tbody>\n",
       "    <tr>\n",
       "      <th>count</th>\n",
       "      <td>46883.000000</td>\n",
       "      <td>46883.000000</td>\n",
       "      <td>46883.000000</td>\n",
       "      <td>46883.000000</td>\n",
       "      <td>46883.000000</td>\n",
       "      <td>46883.000000</td>\n",
       "    </tr>\n",
       "    <tr>\n",
       "      <th>mean</th>\n",
       "      <td>114531.896722</td>\n",
       "      <td>11.525564</td>\n",
       "      <td>3067.775377</td>\n",
       "      <td>0.261758</td>\n",
       "      <td>0.167267</td>\n",
       "      <td>0.016125</td>\n",
       "    </tr>\n",
       "    <tr>\n",
       "      <th>std</th>\n",
       "      <td>412469.173466</td>\n",
       "      <td>16.423346</td>\n",
       "      <td>4589.436418</td>\n",
       "      <td>1.212622</td>\n",
       "      <td>5.277546</td>\n",
       "      <td>0.202255</td>\n",
       "    </tr>\n",
       "    <tr>\n",
       "      <th>min</th>\n",
       "      <td>0.000000</td>\n",
       "      <td>0.000000</td>\n",
       "      <td>0.000000</td>\n",
       "      <td>0.000000</td>\n",
       "      <td>0.000000</td>\n",
       "      <td>0.000000</td>\n",
       "    </tr>\n",
       "    <tr>\n",
       "      <th>25%</th>\n",
       "      <td>14068.000000</td>\n",
       "      <td>3.000000</td>\n",
       "      <td>0.000000</td>\n",
       "      <td>0.000000</td>\n",
       "      <td>0.000000</td>\n",
       "      <td>0.000000</td>\n",
       "    </tr>\n",
       "    <tr>\n",
       "      <th>50%</th>\n",
       "      <td>26385.000000</td>\n",
       "      <td>5.000000</td>\n",
       "      <td>619.000000</td>\n",
       "      <td>0.000000</td>\n",
       "      <td>0.000000</td>\n",
       "      <td>0.000000</td>\n",
       "    </tr>\n",
       "    <tr>\n",
       "      <th>75%</th>\n",
       "      <td>67421.000000</td>\n",
       "      <td>10.000000</td>\n",
       "      <td>4775.000000</td>\n",
       "      <td>0.000000</td>\n",
       "      <td>0.000000</td>\n",
       "      <td>0.000000</td>\n",
       "    </tr>\n",
       "    <tr>\n",
       "      <th>max</th>\n",
       "      <td>18100000.000000</td>\n",
       "      <td>150.000000</td>\n",
       "      <td>99000.000000</td>\n",
       "      <td>49.000000</td>\n",
       "      <td>1000.000000</td>\n",
       "      <td>25.000000</td>\n",
       "    </tr>\n",
       "  </tbody>\n",
       "</table>\n",
       "</div>"
      ]
     },
     "output_type": "execute_result",
     "metadata": {}
    }
   ],
   "source": [
    "# Variable summaries\n",
    "\n",
    "totacts[[\"ACCDMG\", \"TRNSPD\", \"TONS\", \"CARSDMG\", \"TOTINJ\", \"TOTKLD\"]].describe()"
   ]
  },
  {
   "cell_type": "code",
   "execution_count": 50,
   "metadata": {},
   "outputs": [
    {
     "name": "stdout",
     "output_type": "stream",
     "text": [
      "Mean:  ACCDMG    114531.896722\n",
      "dtype: float64\n",
      "Median:  ACCDMG    26385\n",
      "dtype: float64\n",
      "Standard Deviation of ACCDMG:  412469.1734664158\n"
     ]
    }
   ],
   "source": [
    "# To get individual statistics (e.g. mean, median, var, std, etc.)\n",
    "print ('Mean: ', totacts[['ACCDMG']].mean())\n",
    "print ('Median: ', totacts[['ACCDMG']].median())\n",
    "# another way without the pandas variable indexing\n",
    "print ('Standard Deviation of ACCDMG: ', totacts.ACCDMG.std())"
   ]
  },
  {
   "cell_type": "code",
   "execution_count": 51,
   "metadata": {},
   "outputs": [
    {
     "data": {
      "text/plain": [
       "(array([  4.64750000e+04,   3.29000000e+02,   3.70000000e+01,\n",
       "          1.70000000e+01,   1.30000000e+01,   0.00000000e+00,\n",
       "          6.00000000e+00,   3.00000000e+00,   0.00000000e+00,\n",
       "          3.00000000e+00]),\n",
       " array([        0.,   1810000.,   3620000.,   5430000.,   7240000.,\n",
       "          9050000.,  10860000.,  12670000.,  14480000.,  16290000.,\n",
       "         18100000.]),\n",
       " <a list of 10 Patch objects>)"
      ]
     },
     "execution_count": 51,
     "output_type": "execute_result",
     "metadata": {}
    },
    {
     "data": {
      "image/png": "[encoded data removed]"
     },
     "output_type": "display_data",
     "metadata": {}
    }
   ],
   "source": [
    "plt.hist(totacts.ACCDMG)"
   ]
  },
  {
   "cell_type": "code",
   "execution_count": 52,
   "metadata": {},
   "outputs": [
    {
     "data": {
      "text/plain": [
       "<matplotlib.text.Text at 0x10f163438>"
      ]
     },
     "execution_count": 52,
     "output_type": "execute_result",
     "metadata": {}
    },
    {
     "data": {
      "image/png": "[encoded data removed]"
     },
     "output_type": "display_data",
     "metadata": {}
    }
   ],
   "source": [
    "plt.boxplot([totacts.ACCDMG, totacts.TRKDMG], 0, \"r.\")\n",
    "plt.title(\"Damage Box Plots\")"
   ]
  },
  {
   "cell_type": "code",
   "execution_count": 53,
   "metadata": {},
   "outputs": [
    {
     "data": {
      "text/plain": [
       "<matplotlib.text.Text at 0x10fad4320>"
      ]
     },
     "execution_count": 53,
     "output_type": "execute_result",
     "metadata": {}
    },
    {
     "data": {
      "image/png": "[encoded data removed]"
     },
     "output_type": "display_data",
     "metadata": {}
    }
   ],
   "source": [
    "plt.boxplot([np.log(totacts.ACCDMG+1), np.log(totacts.TRKDMG+1)], 0, \"r.\")\n",
    "plt.title(\"Damage Box Plots\")"
   ]
  },
  {
   "cell_type": "code",
   "execution_count": 54,
   "metadata": {},
   "outputs": [
    {
     "data": {
      "text/plain": [
       "{'boxes': [<matplotlib.lines.Line2D at 0x1103306d8>],\n",
       " 'caps': [<matplotlib.lines.Line2D at 0x110338a20>,\n",
       "  <matplotlib.lines.Line2D at 0x11033c240>],\n",
       " 'fliers': [<matplotlib.lines.Line2D at 0x110341240>],\n",
       " 'means': [],\n",
       " 'medians': [<matplotlib.lines.Line2D at 0x11033ca20>],\n",
       " 'whiskers': [<matplotlib.lines.Line2D at 0x1103309b0>,\n",
       "  <matplotlib.lines.Line2D at 0x110338240>]}"
      ]
     },
     "execution_count": 54,
     "output_type": "execute_result",
     "metadata": {}
    },
    {
     "data": {
      "image/png": "[encoded data removed]"
     },
     "output_type": "display_data",
     "metadata": {}
    }
   ],
   "source": [
    "plt.boxplot(totacts.TEMP, 0, sym = \"b.\")"
   ]
  },
  {
   "cell_type": "code",
   "execution_count": 55,
   "metadata": {},
   "outputs": [
    {
     "data": {
      "text/plain": [
       "<matplotlib.axes._subplots.AxesSubplot at 0x110a9a5f8>"
      ]
     },
     "execution_count": 55,
     "output_type": "execute_result",
     "metadata": {}
    },
    {
     "data": {
      "image/png": "[encoded data removed]"
     },
     "output_type": "display_data",
     "metadata": {}
    }
   ],
   "source": [
    "totacts.ACCDMG.plot(kind=\"hist\")"
   ]
  },
  {
   "cell_type": "code",
   "execution_count": 56,
   "metadata": {},
   "outputs": [
    {
     "data": {
      "text/plain": [
       "<matplotlib.axes._subplots.AxesSubplot at 0x110b2d400>"
      ]
     },
     "execution_count": 56,
     "output_type": "execute_result",
     "metadata": {}
    },
    {
     "data": {
      "image/png": "[encoded data removed]"
     },
     "output_type": "display_data",
     "metadata": {}
    }
   ],
   "source": [
    "# Analyze accident cost column\n",
    "sns.boxplot(x=totacts.ACCDMG)"
   ]
  },
  {
   "cell_type": "code",
   "execution_count": 57,
   "metadata": {},
   "outputs": [
    {
     "data": {
      "text/plain": [
       "<seaborn.axisgrid.FacetGrid at 0x108e4b4e0>"
      ]
     },
     "execution_count": 57,
     "output_type": "execute_result",
     "metadata": {}
    },
    {
     "data": {
      "image/png": "[encoded data removed]"
     },
     "output_type": "display_data",
     "metadata": {}
    }
   ],
   "source": [
    "g = sns.FacetGrid(totacts)\n",
    "g.map(plt.hist, \"ACCDMG\")"
   ]
  },
  {
   "cell_type": "code",
   "execution_count": 58,
   "metadata": {},
   "outputs": [
    {
     "name": "stdout",
     "output_type": "stream",
     "text": [
      "(27585, 153)\n",
      "(32014, 153)\n",
      "(34626, 153)\n"
     ]
    }
   ],
   "source": [
    "# Look at 3 approaches to removing duplicates\n",
    "#Removing duplicates\n",
    "\n",
    "totactsClean = totacts.drop_duplicates([\"YEAR\", \"DAY\",\"MONTH\", \"TIMEHR\"])\n",
    "print(totactsClean.shape)\n",
    "\n",
    "# using AMPM\n",
    "totactsClean = totacts.drop_duplicates([\"YEAR\", \"DAY\",\"MONTH\", \"TIMEHR\", \"AMPM\"])\n",
    "print(totactsClean.shape)\n",
    "\n",
    "# Using the FRA FAQ `b\n",
    "# http://safetydata.fra.dot.gov/officeofsafety/Documents/Railroad%20Safety%20Data%20Frequently%20Asked%20Questions.pdf?V=9\n",
    "totactsClean = totacts[(totacts['JOINTCD'] == 1) & (totacts['TYPE'] != 7)]\n",
    "print(totactsClean.shape)"
   ]
  },
  {
   "cell_type": "code",
   "execution_count": 59,
   "metadata": {},
   "outputs": [
    {
     "data": {
      "text/html": [
       "<div>\n",
       "<table border=\"1\" class=\"dataframe\">\n",
       "  <thead>\n",
       "    <tr style=\"text-align: right;\">\n",
       "      <th></th>\n",
       "      <th>ACCDMG</th>\n",
       "      <th>YEAR</th>\n",
       "    </tr>\n",
       "  </thead>\n",
       "  <tbody>\n",
       "    <tr>\n",
       "      <th>1428</th>\n",
       "      <td>16930000</td>\n",
       "      <td>1</td>\n",
       "    </tr>\n",
       "    <tr>\n",
       "      <th>42881</th>\n",
       "      <td>18100000</td>\n",
       "      <td>13</td>\n",
       "    </tr>\n",
       "  </tbody>\n",
       "</table>\n",
       "</div>"
      ]
     },
     "output_type": "execute_result",
     "metadata": {}
    }
   ],
   "source": [
    "# Extreme accidents\n",
    "totactsClean.ix[(totactsClean.ACCDMG > 1.5e7),[\"ACCDMG\",\"YEAR\"]]"
   ]
  },
  {
   "cell_type": "code",
   "execution_count": 60,
   "metadata": {},
   "outputs": [
    {
     "data": {
      "text/plain": [
       "1428"
      ]
     },
     "execution_count": 60,
     "output_type": "execute_result",
     "metadata": {}
    }
   ],
   "source": [
    "# Index for the 9/11/2001 accident\n",
    "nine11idx = totactsClean.ix[(totactsClean.ACCDMG > 1.5e7) & (totactsClean.YEAR == 1), [\"ACCDMG\"]].index[0]\n",
    "nine11idx"
   ]
  },
  {
   "cell_type": "code",
   "execution_count": 61,
   "metadata": {},
   "outputs": [
    {
     "name": "stdout",
     "output_type": "stream",
     "text": [
      "AT APPROXIMATELY 8:48 AM, PATH POLICE COMMAND WAS NOTIFIED THAT A PLANE STRUCK THE WORLD TRADE CENTE\n",
      "R.  AT 8:52 AM TRAIN SERVICE WAS SUSPENDED INTO THE WORLD TRADE CENTER.  ALL PATH EMPLOYEES WERE NOT\n",
      "IFIED BY PHONE TO EVACUATE.  ALL REMAINING EMPLOYEES WERE EVACUATED ON A TRAIN THAT DEPARTED THE STA\n",
      "TION AT 9:11 AM.  THE CREW ON THE HOB46 ARRIVING AT WTC WAS INSTRUCTED TO KEEP THE DOORS CLOSED AND\n",
      "OPERATE THROUGH THE WTC WITHOUT STOPPING.  THESE PASSENGERS WERE RE-ROUTED TO 33RD STREET.  AT 9:02\n",
      "AM THE PATH EMERGENCY OPERATIONS PLAN WAS PUT INTO EFFECT AND REMAINING SERVICE OPERATED ON A 10 MIN\n",
      "UTE SCHEDULE. AT 10:45 AM PASSENGER TRAIN OPERATIONS WERE SUSPENDED AS A RESULT OF CONCERNS FOR PUBL\n",
      "IC SAFETY.  BOTH TOWERS FELL CAUSING DEBRIS TO FALL INTO THE STATION AND ON A TRAIN LOCATED ON TRACK\n",
      "3 AT WORLD TRADE CENTER.  CARS IN CONSIST WERE: 612-139-750-731-160-143-745.  FLOODING OCCURRED AND\n",
      "WATER FLOWED AS FAR AS EXCHANGE PLACE STATION IN JERSEY CITY.  MAINTENANCE PERSONNEL WORKED ROUND T\n",
      "HE CLOCK TO PUMP TUNNELS E AND F AND BUILD INTERIM WATER BARRIERS TO PREVENT POTENTIALLY CATASTROPHI\n",
      "C WATER INTRUSION INTO THE REMAINDER OF THE PATH SYSTEM.  SIXTEEN PATH STAFF INCURRED STRESS/ PHYSIC\n",
      "AL INJURIES RESULTING FROM THEIR EVACUATION FROM THE NORTH TOWER AND WTC COMPLEX.  AS A RESULT OF TH\n",
      "IS INCIDENT THE PRELIMINARY DAMAGE ESTIMATE TO REPLACE 7 CARS, REBUILD THE WTC TERMINAL STATION, GUT\n",
      "AND RESTORE TUNNELS E AND F IS IN EXCESS OF $1 BILLION DOLLARS.  THIS DOES NOT INCLUDE COSTS TO MOD\n"
     ]
    }
   ],
   "source": [
    "# The 9/11 Narrative\n",
    "\n",
    "print(totacts.NARR1[nine11idx])\n",
    "print(totacts.NARR2[nine11idx])\n",
    "print(totacts.NARR3[nine11idx])\n",
    "print(totacts.NARR4[nine11idx])\n",
    "print(totacts.NARR5[nine11idx])\n",
    "print(totacts.NARR6[nine11idx])\n",
    "print(totacts.NARR7[nine11idx])\n",
    "print(totacts.NARR8[nine11idx])\n",
    "print(totacts.NARR9[nine11idx])\n",
    "print(totacts.NARR10[nine11idx])\n",
    "print(totacts.NARR11[nine11idx])\n",
    "print(totacts.NARR12[nine11idx])\n",
    "print(totacts.NARR13[nine11idx])\n",
    "print(totacts.NARR14[nine11idx])\n",
    "print(totacts.NARR15[nine11idx])"
   ]
  },
  {
   "cell_type": "code",
   "execution_count": 62,
   "metadata": {},
   "outputs": [
    {
     "data": {
      "text/html": [
       "<div>\n",
       "<table border=\"1\" class=\"dataframe\">\n",
       "  <thead>\n",
       "    <tr style=\"text-align: right;\">\n",
       "      <th></th>\n",
       "      <th>ACCDMG</th>\n",
       "      <th>TOTKLD</th>\n",
       "      <th>TOTINJ</th>\n",
       "    </tr>\n",
       "  </thead>\n",
       "  <tbody>\n",
       "    <tr>\n",
       "      <th>1428</th>\n",
       "      <td>16930000</td>\n",
       "      <td>0</td>\n",
       "      <td>16</td>\n",
       "    </tr>\n",
       "  </tbody>\n",
       "</table>\n",
       "</div>"
      ]
     },
     "output_type": "execute_result",
     "metadata": {}
    }
   ],
   "source": [
    "# Look at damage and casualties on 9/11\n",
    "\n",
    "totactsClean.ix[(totactsClean.ACCDMG > 1.5e7) & (totactsClean.YEAR == 1), [\"ACCDMG\", \"TOTKLD\", \"TOTINJ\"]]"
   ]
  },
  {
   "cell_type": "code",
   "execution_count": 63,
   "metadata": {},
   "outputs": [
    {
     "data": {
      "text/html": [
       "<div>\n",
       "<table border=\"1\" class=\"dataframe\">\n",
       "  <thead>\n",
       "    <tr style=\"text-align: right;\">\n",
       "      <th></th>\n",
       "      <th>ACCDMG</th>\n",
       "      <th>YEAR</th>\n",
       "    </tr>\n",
       "  </thead>\n",
       "  <tbody>\n",
       "    <tr>\n",
       "      <th>42881</th>\n",
       "      <td>18100000</td>\n",
       "      <td>13</td>\n",
       "    </tr>\n",
       "  </tbody>\n",
       "</table>\n",
       "</div>"
      ]
     },
     "output_type": "execute_result",
     "metadata": {}
    }
   ],
   "source": [
    "# Drop 9/11/2001 accident from totactsClean\n",
    "# Then check that it has been removed\n",
    "\n",
    "totactsClean = totactsClean.drop(nine11idx)\n",
    "totactsClean.ix[(totactsClean.ACCDMG > 1.5e7),[\"ACCDMG\",\"YEAR\"]]"
   ]
  },
  {
   "cell_type": "code",
   "execution_count": 64,
   "metadata": {},
   "outputs": [
    {
     "data": {
      "text/plain": [
       "ACCAUSE     False\n",
       "ACCDMG      False\n",
       "ACCTRK       True\n",
       "ACCTRKCL     True\n",
       "ADJUNCT1     True\n",
       "ADJUNCT2     True\n",
       "ADJUNCT3     True\n",
       "ALCOHOL      True\n",
       "AMPM         True\n",
       "AMTRAK       True\n",
       "BRAKEMEN     True\n",
       "CABOOSE1    False\n",
       "CABOOSE2    False\n",
       "CARNBR1      True\n",
       "CARNBR2      True\n",
       "CARS        False\n",
       "CARSDMG     False\n",
       "CARSHZD     False\n",
       "CASINJ      False\n",
       "CASINJRR    False\n",
       "CASKLD      False\n",
       "CASKLDRR    False\n",
       "CAUSE       False\n",
       "CAUSE2       True\n",
       "CDTRHR       True\n",
       "CDTRMIN      True\n",
       "CNTYCD       True\n",
       "CONDUCTR     True\n",
       "COUNTY      False\n",
       "CauseCat     True\n",
       "            ...  \n",
       "STCNTY       True\n",
       "SUBDIV       True\n",
       "TEMP        False\n",
       "TIMEHR      False\n",
       "TIMEMIN     False\n",
       "TONS        False\n",
       "TOTINJ      False\n",
       "TOTKLD      False\n",
       "TRKCLAS      True\n",
       "TRKDMG      False\n",
       "TRKDNSTY     True\n",
       "TRKNAME      True\n",
       "TRNDIR       True\n",
       "TRNNBR       True\n",
       "TRNSPD      False\n",
       "TYPE        False\n",
       "TYPEQ        True\n",
       "TYPRR        True\n",
       "TYPSPD       True\n",
       "TYPTRK       True\n",
       "VISIBLTY    False\n",
       "WEATHER     False\n",
       "YEAR        False\n",
       "YEAR4       False\n",
       "adjunct1     True\n",
       "adjunct2     True\n",
       "adjunct3     True\n",
       "mopera       True\n",
       "signal       True\n",
       "subdiv       True\n",
       "dtype: bool"
      ]
     },
     "execution_count": 64,
     "output_type": "execute_result",
     "metadata": {}
    }
   ],
   "source": [
    "# Check for missing data\n",
    "pd.isnull(totacts).any()"
   ]
  },
  {
   "cell_type": "code",
   "execution_count": 65,
   "metadata": {},
   "outputs": [
    {
     "name": "stdout",
     "output_type": "stream",
     "text": [
      "['NARR1', 'NARR2', 'NARR3', 'NARR4', 'NARR5', 'NARR6', 'NARR7', 'NARR8', 'NARR9', 'NARR10', 'NARR11', 'NARR12', 'NARR13', 'NARR14', 'NARR15']\n",
      "(34625, 15)\n",
      "NARR1         2\n",
      "NARR2      5719\n",
      "NARR3     20432\n",
      "NARR4     27881\n",
      "NARR5     31179\n",
      "NARR6     32757\n",
      "NARR7     33495\n",
      "NARR8     33884\n",
      "NARR9     34096\n",
      "NARR10    34232\n",
      "NARR11    34322\n",
      "NARR12    34393\n",
      "NARR13    34429\n",
      "NARR14    34465\n",
      "NARR15    34491\n",
      "dtype: int64\n"
     ]
    }
   ],
   "source": [
    "# Keeping the narratives\n",
    "\n",
    "narnames = []\n",
    "for i in range(1,16):\n",
    "    narnames.append(\"NARR\" + str(i))   \n",
    "print(narnames)\n",
    "\n",
    "totactsNarr = totactsClean[narnames]\n",
    "print(totactsNarr.shape)\n",
    "\n",
    "#How many missing values?\n",
    "print(totactsClean[narnames].isnull().sum())"
   ]
  },
  {
   "cell_type": "code",
   "execution_count": 66,
   "metadata": {},
   "outputs": [
    {
     "data": {
      "text/plain": [
       "['UNITS 231-281(BACK TO BACK)  WERE COMING INTO UP DEISEL SHOP  WHEN THE LEFT WHEEL OF 281 RODE OVER RECENTLY REPAIRED SWITCH PLATE AND DERAILED. THE CAUSE WAS DETERMINED TO BE THE TRACK TELEMETRY IN THAT IT WAS TOO SHARP OF A CURVE.',\n",
       " 'ENGINE 286 CAUGHT FIRE AT THE SPRINGFIELD, MA STATION DUE TO BEARINGS IN MAIN GENERATOR LET GO.',\n",
       " 'TRAIN NO.#4 WITH ENGS 83/11/90/44 AND 11 CARS DERAILED 2 DEADHEAD CARS, C/44834 AND C/9639, WHILE MAKING A SHOVING MOVE ONTO TRACK 28.  THE DERAILMENT WAS DUE TO HIGH BUFF FORCES CAUSED JACKKNIFING OFDEADHEADING AMFLEET CAR 44834 LOCATED DIRECTLY BEHIND ENGINES DUE TO EXCESSIVE AMPERAGE GENERATED BY FOUR P42 LOCOMOTIVES SHOVING TRAIN AGAINST AN APPROXIMATELY 15-POUND BRAKE REDUCTION.',\n",
       " 'WHILE SHOVING TRAIN 624 SOUTH ON #30 TRACK AT PENN COACH YARD, CONDUCTOR FAILED TO STOP FOR A DERAILAND 2 CARS DERAILED .',\n",
       " 'TRAIN 786 WAS STRUCK BY A FALLING TREE SOUTH OF SANTA BARBARA, CA.']"
      ]
     },
     "execution_count": 66,
     "output_type": "execute_result",
     "metadata": {}
    }
   ],
   "source": [
    "# Join the narratives for each accident\n",
    "# into one document. Then put all the documents\n",
    "# into a list.\n",
    "\n",
    "# Creating a list of narratives by combining \n",
    "# the narrative fields\n",
    "\n",
    "Narratives = []\n",
    "for i, _ in enumerate(totactsNarr[\"NARR1\"]):\n",
    "    NarrativeList = totactsNarr.iloc[i]\n",
    "    Anarrative = \"\"\n",
    "    for narr in NarrativeList:\n",
    "        if pd.isnull(narr):\n",
    "            break\n",
    "        else:\n",
    "            Anarrative += str(narr)\n",
    "    Narratives.append(Anarrative)\n",
    "    \n",
    "Narratives[0:5] # showing the first 5"
   ]
  },
  {
   "cell_type": "code",
   "execution_count": 67,
   "metadata": {},
   "outputs": [
    {
     "data": {
      "text/plain": [
       "AMPM           7\n",
       "TYPEQ       3139\n",
       "ACCTRKCL     138\n",
       "dtype: int64"
      ]
     },
     "execution_count": 67,
     "output_type": "execute_result",
     "metadata": {}
    }
   ],
   "source": [
    "# Remove variables with missing data\n",
    "# But keep TYPEQ - type of train\n",
    "# ACCTRKCL and AMPM\n",
    "\n",
    "typeq = totactsClean['TYPEQ']\n",
    "acctrkcl = totactsClean.ACCTRKCL\n",
    "ampm = totactsClean.AMPM\n",
    "\n",
    "# How many missing values?\n",
    "totacts[[\"AMPM\", \"TYPEQ\", \"ACCTRKCL\"]].isnull().sum()"
   ]
  },
  {
   "cell_type": "code",
   "execution_count": 68,
   "metadata": {},
   "outputs": [
    {
     "data": {
      "text/plain": [
       "(34625, 70)"
      ]
     },
     "execution_count": 68,
     "output_type": "execute_result",
     "metadata": {}
    }
   ],
   "source": [
    "# Removing columns with NA\n",
    "totactsClean = totactsClean.dropna(axis=1)\n",
    "totactsClean.shape"
   ]
  },
  {
   "cell_type": "code",
   "execution_count": 69,
   "metadata": {},
   "outputs": [
    {
     "data": {
      "text/plain": [
       "(34625, 73)"
      ]
     },
     "execution_count": 69,
     "output_type": "execute_result",
     "metadata": {}
    }
   ],
   "source": [
    "# Adding back TYPEQ, ACCTRKCL, AMPM\n",
    "\n",
    "totactsClean['TYPEQ'] = typeq\n",
    "totactsClean['ACCTRKCL'] = acctrkcl\n",
    "totactsClean['AMPM'] = ampm\n",
    "totactsClean.shape"
   ]
  },
  {
   "cell_type": "code",
   "execution_count": 70,
   "metadata": {},
   "outputs": [
    {
     "data": {
      "text/plain": [
       "Counter({nan: 1289,\n",
       "         1.0: 2727,\n",
       "         2.0: 225,\n",
       "         3.0: 59,\n",
       "         4.0: 32,\n",
       "         5.0: 136,\n",
       "         6.0: 242,\n",
       "         7.0: 1842,\n",
       "         8.0: 218,\n",
       "         9.0: 58,\n",
       "         '4': 191,\n",
       "         '3': 283,\n",
       "         '6': 1552,\n",
       "         'B': 12,\n",
       "         '9': 164,\n",
       "         'E': 16,\n",
       "         '2': 882,\n",
       "         '1': 12365,\n",
       "         '7': 9963,\n",
       "         '5': 793,\n",
       "         'D': 49,\n",
       "         'A': 237,\n",
       "         'C': 23,\n",
       "         '8': 1267})"
      ]
     },
     "execution_count": 70,
     "output_type": "execute_result",
     "metadata": {}
    }
   ],
   "source": [
    "# fill the NA for TYPEQ\n",
    "\n",
    "Counter(totactsClean.TYPEQ.fillna(np.nan))"
   ]
  },
  {
   "cell_type": "code",
   "execution_count": 71,
   "metadata": {},
   "outputs": [
    {
     "data": {
      "text/plain": [
       "Counter({nan: 1289,\n",
       "         'Yard': 11805,\n",
       "         'B': 12,\n",
       "         'Work': 223,\n",
       "         'Passenger': 1107,\n",
       "         'Maint of Way': 237,\n",
       "         'CutofCars': 1794,\n",
       "         'Commuter': 342,\n",
       "         'Light': 1485,\n",
       "         'D': 49,\n",
       "         'Freight': 15092,\n",
       "         'Single': 929,\n",
       "         'Maint': 222,\n",
       "         'C': 23,\n",
       "         'E': 16})"
      ]
     },
     "execution_count": 71,
     "output_type": "execute_result",
     "metadata": {}
    }
   ],
   "source": [
    "# Mapping for TYPEQ\n",
    "map_typeq = {1:\"Freight\", 2: \"Passenger\", 3:\"Commuter\", 4: \"Work\",  5: \"Single\", \n",
    "             6: \"CutofCars\", 7: \"Yard\", 8:\"Light\", 9: \"Maint\", 'A': \"Maint of Way\",\n",
    "            '1': \"Freight\", '2': \"Passenger\", '3': \"Commuter\", '4':\"Work\", '5': \"Single\",\n",
    "             '6':\"CutofCars\", '7':\"Yard\", '8':\"Light\", '9':\"Maint\", \"B\": \"B\", \"C\":\"C\",\n",
    "             \"D\":\"D\", \"E\":\"E\"}\n",
    "totactsClean['TYPEQ'] = totactsClean['TYPEQ'].map(map_typeq)\n",
    "Counter(totactsClean[\"TYPEQ\"])"
   ]
  },
  {
   "cell_type": "code",
   "execution_count": 72,
   "metadata": {},
   "outputs": [
    {
     "data": {
      "text/plain": [
       "Counter({1: 24935,\n",
       "         2: 115,\n",
       "         3: 279,\n",
       "         4: 1488,\n",
       "         5: 641,\n",
       "         6: 75,\n",
       "         8: 3,\n",
       "         9: 861,\n",
       "         10: 13,\n",
       "         11: 334,\n",
       "         12: 4024,\n",
       "         13: 1857})"
      ]
     },
     "execution_count": 72,
     "output_type": "execute_result",
     "metadata": {}
    }
   ],
   "source": [
    "# Levels for TYPE\n",
    "Counter(totactsClean[\"TYPE\"])"
   ]
  },
  {
   "cell_type": "code",
   "execution_count": 74,
   "metadata": {},
   "outputs": [
    {
     "data": {
      "text/plain": [
       "Counter({'BrokenTrain': 75,\n",
       "         'Derailment': 24935,\n",
       "         'Explosive': 13,\n",
       "         'Fire': 334,\n",
       "         'GradeX': 3,\n",
       "         'HeadOn': 115,\n",
       "         'Obstruction': 861,\n",
       "         'Other': 4024,\n",
       "         'Raking': 641,\n",
       "         'Rearend': 279,\n",
       "         'SeeNarrative': 1857,\n",
       "         'Side': 1488})"
      ]
     },
     "execution_count": 74,
     "output_type": "execute_result",
     "metadata": {}
    }
   ],
   "source": [
    "# Replacing values TYPE \n",
    "totactsClean['TYPE']= totactsClean['TYPE'].replace([1, 2, 3, 4, 5, 6, 7, 8, 9, 10, 11, 12, 13], \n",
    "                                         [\"Derailment\", \"HeadOn\", \"Rearend\", \"Side\", \"Raking\", \n",
    "                                          \"BrokenTrain\", \"Hwy-Rail\", \"GradeX\", \"Obstruction\", \n",
    "                                          \"Explosive\", \"Fire\",\"Other\",\"SeeNarrative\"])\n",
    "Counter(totactsClean['TYPE'])"
   ]
  },
  {
   "cell_type": "code",
   "execution_count": 75,
   "metadata": {},
   "outputs": [
    {
     "data": {
      "text/plain": [
       "Counter({'E': 4335, 'H': 12961, 'M': 4916, 'S': 726, 'T': 11687})"
      ]
     },
     "execution_count": 75,
     "output_type": "execute_result",
     "metadata": {}
    }
   ],
   "source": [
    "# Replacing CAUSE with the first letter\n",
    "\n",
    "totactsClean.CAUSE = totactsClean.CAUSE.apply(lambda x: x[0])\n",
    "Counter(totactsClean.CAUSE)"
   ]
  },
  {
   "cell_type": "code",
   "execution_count": 76,
   "metadata": {},
   "outputs": [],
   "source": [
    "# Inflation adjustment suggested by D. Rogers\n",
    "# Add column to adjust ACCDMG for inflation\n",
    "# Using adjustments from http://data.bls.gov/cgi-bin/cpicalc.pl\n",
    "\n",
    "inflation_mult_2000_to_2015_USD = \\\n",
    "    [1.39, 1.35, 1.33, 1.30, 1.26, 1.22, 1.18, 1.15, 1.11, 1.11, 1.09, 1.06, 1.04, 1.02, 1.01, 1]\n",
    "\n",
    "# Define a function to do this for us\n",
    "def adj_inflation(row):\n",
    "    cost_year = int(row['YEAR'])\n",
    "    return row['ACCDMG'] * inflation_mult_2000_to_2015_USD[cost_year]\n",
    "\n",
    "# Apply inflation adjustment to ACCDMG \n",
    "totactsClean.loc[:,'ACCDMG2015'] = totactsClean[['ACCDMG', 'YEAR']].apply(adj_inflation, axis=1)"
   ]
  },
  {
   "cell_type": "code",
   "execution_count": 77,
   "metadata": {},
   "outputs": [
    {
     "name": "stdout",
     "output_type": "stream",
     "text": [
      "2864466.0\n",
      "19017.116486353545\n"
     ]
    }
   ],
   "source": [
    "# Check the maximum inflation adjusted difference\n",
    "print ((totactsClean.ACCDMG2015 - totactsClean.ACCDMG).max())\n",
    "print ((totactsClean.ACCDMG2015 - totactsClean.ACCDMG).mean())\n",
    "\n",
    "# Nearly 3 million dollar difference in one case!\n",
    "# On average, $~19K difference."
   ]
  },
  {
   "cell_type": "code",
   "execution_count": 78,
   "metadata": {},
   "outputs": [
    {
     "data": {
      "text/plain": [
       "<matplotlib.text.Text at 0x11f024ba8>"
      ]
     },
     "execution_count": 78,
     "output_type": "execute_result",
     "metadata": {}
    },
    {
     "data": {
      "image/png": "[encoded data removed]"
     },
     "output_type": "display_data",
     "metadata": {}
    }
   ],
   "source": [
    "# Plot the inflation adjusted numbers\n",
    "fig, (ax1, ax2) = plt.subplots(2, sharex=True, figsize=(8,8))\n",
    "\n",
    "# Box plot\n",
    "accdmg_boxplot = sns.boxplot(x=totactsClean.ACCDMG2015.apply(lambda x: x/1e6), ax=ax1)\n",
    "accdmg_boxplot.set_title('Box plot of Accident Damage')\n",
    "accdmg_boxplot.set_xlabel('')\n",
    "\n",
    "# Histogram\n",
    "accdmg_hist = sns.distplot(totactsClean.ACCDMG2015.apply(lambda x: x/1e6), kde=False, ax=ax2)\n",
    "accdmg_hist.set_title('Histogram of Accident Damage')\n",
    "accdmg_hist.set_xlabel('Accident Damage (Millions 2015 USD)')\n",
    "accdmg_hist.set_ylabel('Count')\n",
    "\n",
    "# Notice distribution spread to the right a bit more, but still the vast majority of accidents\n",
    "# reported are much less than a million"
   ]
  },
  {
   "cell_type": "markdown",
   "metadata": {},
   "source": [
    "### Aggregating Data"
   ]
  },
  {
   "cell_type": "code",
   "execution_count": 79,
   "metadata": {},
   "outputs": [
    {
     "name": "stdout",
     "output_type": "stream",
     "text": [
      "TYPE\n",
      "BrokenTrain      3626762\n",
      "Derailment      18100000\n",
      "Explosive        1035470\n",
      "Fire             2500000\n",
      "GradeX           7301127\n",
      "HeadOn          11677867\n",
      "Obstruction     13020300\n",
      "Other            3000000\n",
      "Raking           2041199\n",
      "Rearend          8063350\n",
      "SeeNarrative     6108000\n",
      "Side             8686769\n",
      "Name: ACCDMG, dtype: float64\n",
      "TYPE\n",
      "BrokenTrain       10038635\n",
      "Derailment      3191090195\n",
      "Explosive          1383252\n",
      "Fire              44587488\n",
      "GradeX             7504301\n",
      "HeadOn            94589352\n",
      "Obstruction       67881677\n",
      "Other            160079012\n",
      "Raking            35496735\n",
      "Rearend           93693892\n",
      "SeeNarrative      90711272\n",
      "Side             161064932\n",
      "Name: ACCDMG, dtype: float64\n",
      "TYPE\n",
      "BrokenTrain        75\n",
      "Derailment      24935\n",
      "Explosive          13\n",
      "Fire              334\n",
      "GradeX              3\n",
      "HeadOn            115\n",
      "Obstruction       861\n",
      "Other            4024\n",
      "Raking            641\n",
      "Rearend           279\n",
      "SeeNarrative     1857\n",
      "Side             1488\n",
      "dtype: int64\n"
     ]
    }
   ],
   "source": [
    "dmgbyType = totactsClean['ACCDMG'].groupby(totactsClean['TYPE'])\n",
    "print(dmgbyType.max())\n",
    "print(dmgbyType.sum())\n",
    "print(dmgbyType.size())"
   ]
  },
  {
   "cell_type": "code",
   "execution_count": 137,
   "metadata": {},
   "outputs": [
    {
     "name": "stdout",
     "output_type": "stream",
     "text": [
      "(a) How many accidents occurred from 2001 to 2014?\n",
      "34625\n",
      "(b) What is the total cost of train accidents?\n",
      "Raw      $3958120743.00\n",
      "Adjusted $4616588401.34\n",
      "(c) What is the average cost of accidents?\n",
      "$     133331.07\n",
      "(d) What is the average annual cost?\n",
      "for year  1: $132916.23\n",
      "for year  2: $129537.56\n",
      "for year  3: $128435.69\n",
      "for year  4: $121326.16\n",
      "for year  5: $126957.49\n",
      "for year  6: $126959.66\n",
      "for year  7: $135182.63\n",
      "for year  8: $131794.78\n",
      "for year  9: $132665.08\n",
      "for year 10: $146647.68\n",
      "for year 11: $130349.90\n",
      "for year 12: $134756.50\n",
      "for year 13: $171648.07\n",
      "for year 14: $142596.44\n",
      "(e) What is the total number killed in all accidents from 2001 to 2014?\n",
      "101.0\n",
      "(f) What is the maximum number killed in a single accident?\n",
      "9.0\n",
      "(g) What is the average number of people killed per year?\n",
      "for year  1: 0.000993\n",
      "for year  2: 0.004383\n",
      "for year  3: 0.001325\n",
      "for year  4: 0.002068\n",
      "for year  5: 0.006736\n",
      "for year  6: 0.002001\n",
      "for year  7: 0.002599\n",
      "for year  8: 0.000821\n",
      "for year  9: 0.002103\n",
      "for year 10: 0.003715\n",
      "for year 11: 0.003006\n",
      "for year 12: 0.003505\n",
      "for year 13: 0.005556\n",
      "for year 14: 0.002817\n",
      "(h) What is the total number injured in all accidents from 2001 to 2014?\n",
      "3697.0\n",
      "(i) What is the average number of people injured per year?\n",
      "for year  1: 0.058901\n",
      "for year  2: 0.479547\n",
      "for year  3: 0.059622\n",
      "for year  4: 0.055835\n",
      "for year  5: 0.186773\n",
      "for year  6: 0.048032\n",
      "for year  7: 0.045303\n",
      "for year  8: 0.030801\n",
      "for year  9: 0.054154\n",
      "for year 10: 0.042994\n",
      "for year 11: 0.060120\n",
      "for year 12: 0.157126\n",
      "for year 13: 0.111667\n",
      "for year 14: 0.063099\n",
      "(j) What is the count of the different types of variables in the total data\n",
      "Counter({dtype('float64'): 45, dtype('int64'): 18, dtype('O'): 11})\n"
     ]
    }
   ],
   "source": [
    "#Develop python code that can be used to answer the following questions.\n",
    "print(\"(a) How many accidents occurred from 2001 to 2014?\")\n",
    "print(totactsClean.shape[0])\n",
    "print(\"(b) What is the total cost of train accidents?\")\n",
    "print(\"Raw      $%13.2f\" %sum(totactsClean['ACCDMG']))\n",
    "print(\"Adjusted $%13.2f\" % sum(totactsClean['ACCDMG2015']))\n",
    "print(\"(c) What is the average cost of accidents?\")\n",
    "print(\"$%14.2f\" %totactsClean['ACCDMG2015'].mean())\n",
    "print(\"(d) What is the average annual cost?\")\n",
    "for i in range(1,15):\n",
    "    print(\"for year %2i: $%6.2f\" % (i,totactsClean['ACCDMG2015'].where(totactsClean['YEAR']== i).mean()))\n",
    "print(\"(e) What is the total number killed in all accidents from 2001 to 2014?\")\n",
    "print(totactsClean[\"TOTKLD\"].sum())\n",
    "print(\"(f) What is the maximum number killed in a single accident?\")\n",
    "print(totactsClean[\"TOTKLD\"].max())\n",
    "print(\"(g) What is the average number of people killed per year?\")\n",
    "for i in range(1,15):\n",
    "    print(\"for year %2i: %f\" % (i,totactsClean['TOTKLD'].where(totactsClean['YEAR']==i).mean()))\n",
    "print(\"(h) What is the total number injured in all accidents from 2001 to 2014?\")\n",
    "print(totactsClean[\"TOTINJ\"].sum())\n",
    "print(\"(i) What is the average number of people injured per year?\")\n",
    "for i in range(1,15):\n",
    "    print(\"for year %2i: %f\" % (i,totactsClean['TOTINJ'].where(totactsClean['YEAR']==i).mean()))\n",
    "print(\"(j) What is the count of the different types of variables in the total data\")\n",
    "print(Counter(totactsClean.dtypes))\n",
    "#set? I.E., float64, int64, and object."
   ]
  },
  {
   "cell_type": "code",
   "execution_count": null,
   "metadata": {},
   "outputs": [],
   "source": [
    ""
   ]
  }
 ],
 "metadata": {
  "celltoolbar": "Raw Cell Format",
  "kernelspec": {
   "display_name": "Python 3",
   "language": "python",
   "name": "python3"
  },
  "language_info": {
   "codemirror_mode": {
    "name": "ipython",
    "version": 3.0
   },
   "file_extension": ".py",
   "mimetype": "text/x-python",
   "name": "python",
   "nbconvert_exporter": "python",
   "pygments_lexer": "ipython3",
   "version": "3.4.3"
  }
 },
 "nbformat": 4,
 "nbformat_minor": 0
}