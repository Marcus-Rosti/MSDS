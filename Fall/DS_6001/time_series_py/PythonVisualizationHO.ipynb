{
 "cells": [
  {
   "cell_type": "markdown",
   "metadata": {},
   "source": [
    "Created by Donald E. Brown on 2015-11-12.\n",
    "Copyright (c) 2015 Donald E. Brown. All rights reserved."
   ]
  },
  {
   "cell_type": "markdown",
   "metadata": {},
   "source": [
    "## Graphics in Python"
   ]
  },
  {
   "cell_type": "code",
   "execution_count": 6,
   "metadata": {},
   "outputs": [
    {
     "ename": "ImportError",
     "evalue": "C extension: 'hashtable' not built. If you want to import pandas from the source directory, you may need to run 'python setup.py build_ext --inplace' to build the C extensions first.",
     "output_type": "error",
     "traceback": [
      "\u001b[0;31m---------------------------------------------------------------------------\u001b[0m",
      "\u001b[0;31mImportError\u001b[0m                               Traceback (most recent call last)",
      "\u001b[0;32m/Users/RustyRosti/anaconda/lib/python3.4/site-packages/pandas/__init__.py\u001b[0m in \u001b[0;36m<module>\u001b[0;34m()\u001b[0m\n\u001b[1;32m      6\u001b[0m \u001b[0;32mtry\u001b[0m\u001b[0;34m:\u001b[0m\u001b[0;34m\u001b[0m\u001b[0m\n\u001b[0;32m----> 7\u001b[0;31m     \u001b[0;32mfrom\u001b[0m \u001b[0mpandas\u001b[0m \u001b[0;32mimport\u001b[0m \u001b[0mhashtable\u001b[0m\u001b[0;34m,\u001b[0m \u001b[0mtslib\u001b[0m\u001b[0;34m,\u001b[0m \u001b[0mlib\u001b[0m\u001b[0;34m\u001b[0m\u001b[0m\n\u001b[0m\u001b[1;32m      8\u001b[0m \u001b[0;32mexcept\u001b[0m \u001b[0mImportError\u001b[0m \u001b[0;32mas\u001b[0m \u001b[0me\u001b[0m\u001b[0;34m:\u001b[0m  \u001b[0;31m# pragma: no cover\u001b[0m\u001b[0;34m\u001b[0m\u001b[0m\n",
      "\u001b[0;31mImportError\u001b[0m: cannot import name 'hashtable'",
      "\nDuring handling of the above exception, another exception occurred:\n",
      "\u001b[0;31mImportError\u001b[0m                               Traceback (most recent call last)",
      "\u001b[0;32m<ipython-input-6-74261c993cde>\u001b[0m in \u001b[0;36m<module>\u001b[0;34m()\u001b[0m\n\u001b[1;32m      1\u001b[0m \u001b[0;31m# Data\u001b[0m\u001b[0;34m\u001b[0m\u001b[0;34m\u001b[0m\u001b[0m\n\u001b[0;32m----> 2\u001b[0;31m \u001b[0;32mimport\u001b[0m \u001b[0mpandas\u001b[0m \u001b[0;32mas\u001b[0m \u001b[0mpd\u001b[0m\u001b[0;34m\u001b[0m\u001b[0m\n\u001b[0m\u001b[1;32m      3\u001b[0m \u001b[0;32mimport\u001b[0m \u001b[0mnumpy\u001b[0m \u001b[0;32mas\u001b[0m \u001b[0mnp\u001b[0m\u001b[0;34m\u001b[0m\u001b[0m\n\u001b[1;32m      4\u001b[0m \u001b[0;32mimport\u001b[0m \u001b[0mscipy\u001b[0m \u001b[0;32mas\u001b[0m \u001b[0msp\u001b[0m\u001b[0;34m\u001b[0m\u001b[0m\n\u001b[1;32m      5\u001b[0m \u001b[0;32mimport\u001b[0m \u001b[0mos\u001b[0m\u001b[0;34m\u001b[0m\u001b[0m\n",
      "\u001b[0;32m/Users/RustyRosti/anaconda/lib/python3.4/site-packages/pandas/__init__.py\u001b[0m in \u001b[0;36m<module>\u001b[0;34m()\u001b[0m\n\u001b[1;32m     11\u001b[0m                       \u001b[0;34m\"pandas from the source directory, you may need to run \"\u001b[0m\u001b[0;34m\u001b[0m\u001b[0m\n\u001b[1;32m     12\u001b[0m                       \u001b[0;34m\"'python setup.py build_ext --inplace' to build the C \"\u001b[0m\u001b[0;34m\u001b[0m\u001b[0m\n\u001b[0;32m---> 13\u001b[0;31m                       \"extensions first.\".format(module))\n\u001b[0m\u001b[1;32m     14\u001b[0m \u001b[0;34m\u001b[0m\u001b[0m\n\u001b[1;32m     15\u001b[0m \u001b[0;32mfrom\u001b[0m \u001b[0mdatetime\u001b[0m \u001b[0;32mimport\u001b[0m \u001b[0mdatetime\u001b[0m\u001b[0;34m\u001b[0m\u001b[0m\n",
      "\u001b[0;31mImportError\u001b[0m: C extension: 'hashtable' not built. If you want to import pandas from the source directory, you may need to run 'python setup.py build_ext --inplace' to build the C extensions first."
     ]
    }
   ],
   "source": [
    "# Data\n",
    "import pandas as pd\n",
    "import numpy as np\n",
    "import scipy as sp\n",
    "import os\n",
    "import string as st\n",
    "from collections import Counter\n",
    "\n",
    "# Statistics\n",
    "import statsmodels.api as sm\n",
    "import statsmodels.sandbox.tools.tools_pca as sm_pca\n",
    "from statsmodels.formula.api import ols as sm_ols\n",
    "from statsmodels.stats.anova import anova_lm as sm_anova\n",
    "from patsy.contrasts import Treatment\n",
    "\n",
    "# Plotting\n",
    "import seaborn as sns\n",
    "import matplotlib as mpl\n",
    "import matplotlib.pyplot as plt\n",
    "from pylab import savefig\n",
    "\n",
    "sns.set(style=\"darkgrid\", color_codes=True)\n",
    "\n",
    "# Printing\n",
    "import locale\n",
    "\n",
    "locale.setlocale( locale.LC_ALL, '' )\n",
    "\n",
    "%matplotlib inline\n",
    "\n",
    "# Check for errors"
   ]
  },
  {
   "cell_type": "code",
   "execution_count": 3,
   "metadata": {},
   "outputs": [
    {
     "ename": "NameError",
     "evalue": "name 'pd' is not defined",
     "output_type": "error",
     "traceback": [
      "\u001b[0;31m---------------------------------------------------------------------------\u001b[0m",
      "\u001b[0;31mNameError\u001b[0m                                 Traceback (most recent call last)",
      "\u001b[0;32m<ipython-input-3-cd69cccc9a36>\u001b[0m in \u001b[0;36m<module>\u001b[0;34m()\u001b[0m\n\u001b[0;32m----> 1\u001b[0;31m \u001b[0mtotactsClean\u001b[0m \u001b[0;34m=\u001b[0m \u001b[0mpd\u001b[0m\u001b[0;34m.\u001b[0m\u001b[0mread_csv\u001b[0m\u001b[0;34m(\u001b[0m\u001b[0;34m\"traindataClean.csv\"\u001b[0m\u001b[0;34m)\u001b[0m\u001b[0;34m\u001b[0m\u001b[0m\n\u001b[0m\u001b[1;32m      2\u001b[0m \u001b[0mtotactsClean\u001b[0m\u001b[0;34m.\u001b[0m\u001b[0mshape\u001b[0m\u001b[0;34m\u001b[0m\u001b[0m\n",
      "\u001b[0;31mNameError\u001b[0m: name 'pd' is not defined"
     ]
    }
   ],
   "source": [
    "totactsClean = pd.read_csv(\"traindataClean.csv\")\n",
    "totactsClean.shape"
   ]
  },
  {
   "cell_type": "code",
   "execution_count": null,
   "metadata": {},
   "outputs": [],
   "source": [
    "plt.plot(totactsClean.ACCDMG2015)"
   ]
  },
  {
   "cell_type": "code",
   "execution_count": null,
   "metadata": {},
   "outputs": [],
   "source": [
    "plt.scatter(np.arange(30), np.arange(30) + 3 * np.random.randn(30))"
   ]
  },
  {
   "cell_type": "code",
   "execution_count": null,
   "metadata": {},
   "outputs": [],
   "source": [
    "totactsClean[[\"ACCDMG\"]].plot(color='r', linestyle='dashed', marker='o')"
   ]
  },
  {
   "cell_type": "code",
   "execution_count": null,
   "metadata": {},
   "outputs": [],
   "source": [
    "totactsClean[[\"ACCDMG\", \"TRKDMG\"]].plot()"
   ]
  },
  {
   "cell_type": "code",
   "execution_count": null,
   "metadata": {},
   "outputs": [],
   "source": [
    "plt.plot(totactsClean[\"ACCDMG2015\"], '.')"
   ]
  },
  {
   "cell_type": "code",
   "execution_count": null,
   "metadata": {},
   "outputs": [],
   "source": [
    "fig = plt.figure()\n",
    "spd_dmg = fig.add_subplot(1, 1, 1)\n",
    "#spd_dmg.plot(totactsClean.ACCDMG2015)\n",
    "spd_dmg.plot(totactsClean.TRNSPD, totactsClean.ACCDMG2015, '.')\n",
    "spd_dmg.set_title(\"Accident Damage vs. Speed\")\n",
    "spd_dmg.set_ylabel(\"Cost ($10M)\")\n",
    "spd_dmg.set_xlabel(\"Speed (MPH)\")"
   ]
  },
  {
   "cell_type": "code",
   "execution_count": null,
   "metadata": {},
   "outputs": [],
   "source": [
    "fig = plt.figure()\n",
    "dmg = fig.add_subplot(1, 1, 1)\n",
    "dmg.plot(totactsClean.ACCDMG2015.cumsum(), 'g', label = 'Total Damage')\n",
    "dmg.plot(totactsClean.TRKDMG.cumsum(), 'r', label = 'Track Damage' )\n",
    "dmg.plot(totactsClean.EQPDMG.cumsum(), 'b', label = 'Train Damage')\n",
    "dmg.legend(loc = 'best')\n",
    "dmg.set_title(\"Accident Damage\")\n",
    "dmg.set_ylabel(\"Damage ($)\")\n",
    "dmg.set_xlabel(\"Accident Number\")"
   ]
  },
  {
   "cell_type": "code",
   "execution_count": null,
   "metadata": {},
   "outputs": [],
   "source": [
    "fig = plt.figure()\n",
    "ax1 = fig.add_subplot(2, 2, 1)\n",
    "ax2 = fig.add_subplot(2, 2, 2)\n",
    "ax3 = fig.add_subplot(2, 2, 3)\n",
    "plt.plot(totactsClean.TRNSPD, 'r.')\n",
    "ax1.hist(totactsClean.TEMP, bins=20, color='k', alpha=0.3)\n",
    "ax2.scatter(totactsClean.TRNSPD, np.log(totactsClean.ACCDMG+1))"
   ]
  },
  {
   "cell_type": "markdown",
   "metadata": {},
   "source": [
    "## Question\n",
    "\n",
    "Write the pythod to make the following six plots: 1. ACCDMG vs. TRNSPD, 2. TONS vs. TRNSPD, 3. Log(ACCDMG) vs. TRNSPD, 4. histogram of TRNSPD with alpha = 1, 5. histogram of TRNSPD with alpha = .5, and 6. histogram of TRNSPD with alpha = .3. Put the six plots into a single display. Make your graphic look nice with titles, spacing, and colors."
   ]
  },
  {
   "cell_type": "code",
   "execution_count": null,
   "metadata": {},
   "outputs": [],
   "source": [
    "# Group by year and use for all plot below\n",
    "totacts_yearly = totactsClean.groupby('YEAR4')"
   ]
  },
  {
   "cell_type": "code",
   "execution_count": null,
   "metadata": {},
   "outputs": [],
   "source": [
    "# Time Series Plot of Damage\n",
    "# with legend\n",
    "fig = plt.figure(figsize=(8, 8))\n",
    "dmg = fig.add_subplot(1, 1, 1)\n",
    "dmg.plot(totacts_yearly.sum().index, totacts_yearly.ACCDMG2015.sum(), label = \"Total Damage\")\n",
    "dmg.plot(totacts_yearly.sum().index, totacts_yearly.TRKDMG.sum(),  label = \"Track Damage\")\n",
    "dmg.plot(totacts_yearly.sum().index, totacts_yearly.EQPDMG.sum(),  label = \"Train Damage\")\n",
    "dmg.legend(loc = 'best')\n",
    "dmg.set_title(\"Accident Damage\")\n",
    "dmg.set_ylabel(\"Damage ($)\")\n",
    "dmg.set_xlabel(\"Year\")"
   ]
  },
  {
   "cell_type": "markdown",
   "metadata": {},
   "source": [
    "## PANDAS plotting"
   ]
  },
  {
   "cell_type": "code",
   "execution_count": null,
   "metadata": {},
   "outputs": [],
   "source": [
    "totactsClean.TEMP.hist()"
   ]
  },
  {
   "cell_type": "code",
   "execution_count": null,
   "metadata": {},
   "outputs": [],
   "source": [
    "totactsClean.TEMP.hist(bins = 100)"
   ]
  },
  {
   "cell_type": "code",
   "execution_count": null,
   "metadata": {},
   "outputs": [],
   "source": [
    "totactsClean.TEMP.plot(kind = 'kde')"
   ]
  },
  {
   "cell_type": "code",
   "execution_count": null,
   "metadata": {},
   "outputs": [],
   "source": [
    "# Using seaborn\n",
    "temp_hist = sns.distplot(totactsClean[['TEMP']], kde=False)\n",
    "# Bins algorithm defaults to Freedman-Diaconis\n",
    "temp_hist.set_title('Accident Temperatures (F)')\n",
    "temp_hist.set_ylabel('Count')\n",
    "temp_hist.set_xlabel('Temperature in degrees Fahrenheit')"
   ]
  },
  {
   "cell_type": "code",
   "execution_count": null,
   "metadata": {},
   "outputs": [],
   "source": [
    "damage = totactsClean.ACCDMG2015.head()\n",
    "damage.plot()\n",
    "#plt.plot(totactsClean.TEMP)"
   ]
  },
  {
   "cell_type": "code",
   "execution_count": null,
   "metadata": {},
   "outputs": [],
   "source": [
    "# Data Frame plot\n",
    "damages = totactsClean[[\"ACCDMG2015\", \"TRKDMG\", \"EQPDMG\"]]\n",
    "damages = damages[(totactsClean.YEAR  == 13) & (totactsClean.MONTH  == 1)]\n",
    "damages.plot()"
   ]
  },
  {
   "cell_type": "code",
   "execution_count": null,
   "metadata": {},
   "outputs": [],
   "source": [
    "# Scatter Plot Matrix\n",
    "pd.scatter_matrix(damages, diagonal = 'kde')"
   ]
  },
  {
   "cell_type": "code",
   "execution_count": null,
   "metadata": {},
   "outputs": [],
   "source": [
    "#Bar plots\n",
    "yearly_plot = totactsClean.groupby('YEAR4')['ACCDMG'].count().plot(kind=\"bar\")\n",
    "yearly_plot.set_title('Number of Train Accidents Per Year')\n",
    "yearly_plot.set_ylabel('Number of Accidents')\n",
    "yearly_plot.set_xlabel('Year')"
   ]
  },
  {
   "cell_type": "code",
   "execution_count": null,
   "metadata": {},
   "outputs": [],
   "source": [
    "#Bar plots\n",
    "actstype = totactsClean.groupby('TYPE')['ACCDMG2015']\n",
    "type_plot = actstype.sum().plot(kind=\"bar\")\n",
    "type_plot.set_title('Cost of Accidents by Type')\n",
    "type_plot.set_ylabel('Cost of Accidents')\n",
    "type_plot.set_xlabel('Type of Accident')"
   ]
  },
  {
   "cell_type": "code",
   "execution_count": null,
   "metadata": {},
   "outputs": [],
   "source": [
    "#Bar plots\n",
    "type_counts = totactsClean.TYPE.value_counts(sort = False)\n",
    "type_counts.plot(kind = 'bar')"
   ]
  },
  {
   "cell_type": "markdown",
   "metadata": {},
   "source": [
    "## Prettyplotlib\n",
    "install prettyplotlib, in the terminal type pip install prettyplotlib"
   ]
  },
  {
   "cell_type": "code",
   "execution_count": null,
   "metadata": {},
   "outputs": [],
   "source": [
    "# Plot in matplotlib\n",
    "\n",
    "np.random.seed(12)\n",
    "for i in range(8):\n",
    "    x = np.arange(1000)\n",
    "    y = np.random.randn(1000).cumsum()\n",
    "    plt.plot(x,y, label = str(i))\n",
    "plt.legend()"
   ]
  },
  {
   "cell_type": "code",
   "execution_count": null,
   "metadata": {},
   "outputs": [],
   "source": [
    "# same plot with prettyplotlib\n",
    "import prettyplotlib as ppl\n",
    "\n",
    "np.random.seed(12)\n",
    "for i in range(8):\n",
    "    x = np.arange(1000)\n",
    "    y = np.random.randn(1000).cumsum()\n",
    "    ppl.plot(x,y, label = str(i))\n",
    "ppl.legend()"
   ]
  },
  {
   "cell_type": "code",
   "execution_count": null,
   "metadata": {},
   "outputs": [],
   "source": [
    "# Colormesh\n",
    "\n",
    "np.random.seed(12)\n",
    "plt.pcolormesh(np.random.rand(16,16))\n",
    "plt.colorbar()"
   ]
  },
  {
   "cell_type": "code",
   "execution_count": null,
   "metadata": {},
   "outputs": [],
   "source": [
    "# colormesh with prettyplotlib\n",
    "\n",
    "np.random.seed(12)\n",
    "ppl.pcolormesh(np.random.rand(16,16))"
   ]
  },
  {
   "cell_type": "markdown",
   "metadata": {},
   "source": [
    "## Question\n",
    "\n",
    "Use python to prodce a bar chart of the counts of the type of train accidents for the years 2011, 2012, and 2013. The bars for each year should be next to each other."
   ]
  },
  {
   "cell_type": "markdown",
   "metadata": {},
   "source": [
    "## Seaborn\n"
   ]
  },
  {
   "cell_type": "code",
   "execution_count": null,
   "metadata": {},
   "outputs": [],
   "source": [
    "# Putting total and maximum injuries together using symbols \n",
    "\n",
    "plt.figure(figsize=(8, 8))\n",
    "\n",
    "# Plot time series of sum of accident costs per year in background\n",
    "yearly_plot = sns.tsplot(totacts_yearly.ACCDMG.sum(), totacts_yearly.sum().index)\n",
    "yearly_plot.set_title('Cost of Accidents Per Year')\n",
    "yearly_plot.set_ylabel('Cost (2015 USD)')\n",
    "yearly_plot.set_xlabel('Year')\n",
    "\n",
    "# Overlay top accident cost per year as circles on points\n",
    "plt.scatter(totacts_yearly.sum().index.tolist(), \n",
    "            totacts_yearly.ACCDMG.sum().tolist(),\n",
    "            color='r', \n",
    "            s=totacts_yearly.ACCDMG.max().apply(lambda x: x/1e4).tolist())\n",
    "savefig('costperyear.pdf')"
   ]
  },
  {
   "cell_type": "code",
   "execution_count": null,
   "metadata": {},
   "outputs": [],
   "source": [
    "# Violin Plot\n",
    "\n",
    "x1 = np.random.randn(80)\n",
    "x2 = np.random.randn(80)\n",
    "x3 = x1*x2\n",
    "sns.violinplot(data = [x1,x2,x3])"
   ]
  },
  {
   "cell_type": "code",
   "execution_count": null,
   "metadata": {},
   "outputs": [],
   "source": [
    "mydf = pd.DataFrame(dict(x1=x1, x2=x2, x3=x3))\n",
    "sns.corrplot(mydf)"
   ]
  },
  {
   "cell_type": "code",
   "execution_count": null,
   "metadata": {},
   "outputs": [],
   "source": [
    "sns.heatmap(pd.DataFrame(np.random.rand(4,4)))"
   ]
  },
  {
   "cell_type": "code",
   "execution_count": null,
   "metadata": {},
   "outputs": [],
   "source": [
    "# Regression Plot\n",
    "\n",
    "# ACCDMG2015 vs TONS\n",
    "sns.jointplot( \"TONS\", \"ACCDMG\", data=totactsClean, kind=\"reg\")"
   ]
  },
  {
   "cell_type": "markdown",
   "metadata": {},
   "source": [
    "## Bokeh\n",
    "Interactive Web visualization"
   ]
  },
  {
   "cell_type": "code",
   "execution_count": null,
   "metadata": {},
   "outputs": [],
   "source": [
    "import bokeh.plotting as bkh\n",
    "bkh.output_notebook()"
   ]
  },
  {
   "cell_type": "code",
   "execution_count": null,
   "metadata": {},
   "outputs": [],
   "source": [
    "# Generate data\n",
    "x = np.linespace(0.,1.,100)\n",
    "y = np.cumsum(np.random.randn(100))"
   ]
  },
  {
   "cell_type": "code",
   "execution_count": null,
   "metadata": {},
   "outputs": [],
   "source": [
    "# Plot an interactive graphic\n",
    "p = bkh.figure(title=\"simple line example\", x_axis_label='x', y_axis_label='y')\n",
    "p.line(x,y, line_width = 5)\n",
    "bkh.show(p)"
   ]
  },
  {
   "cell_type": "markdown",
   "metadata": {},
   "source": [
    "## MPLD3\n",
    "Converting matplotlib figures to interactive D3.js visualizations\n"
   ]
  },
  {
   "cell_type": "code",
   "execution_count": null,
   "metadata": {},
   "outputs": [],
   "source": [
    "from mpld3 import enable_notebook\n",
    "enable_notebook()"
   ]
  },
  {
   "cell_type": "code",
   "execution_count": null,
   "metadata": {},
   "outputs": [],
   "source": [
    "X = np.random.normal(0,1,(100,3))\n",
    "color = np.random.random(100)\n",
    "size = 500*np.random.random(100)\n",
    "plt.scatter(X[:,0], X[:,1], c=color, s= size, alpha = .5, linewidths = 2)\n",
    "plt.grid(color = 'lightgray', alpha = 0.7)"
   ]
  }
 ],
 "metadata": {
  "kernelspec": {
   "display_name": "Python 3",
   "language": "python",
   "name": "python3"
  },
  "language_info": {
   "codemirror_mode": {
    "name": "ipython",
    "version": 3.0
   },
   "file_extension": ".py",
   "mimetype": "text/x-python",
   "name": "python",
   "nbconvert_exporter": "python",
   "pygments_lexer": "ipython3",
   "version": "3.4.3"
  }
 },
 "nbformat": 4,
 "nbformat_minor": 0
}